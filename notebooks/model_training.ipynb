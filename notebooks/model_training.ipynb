{
 "cells": [
  {
   "cell_type": "markdown",
   "metadata": {},
   "source": [
    "# Model Training & Testing\n",
    "This notebook runs through:\n",
    "- Loading in training data\n",
    "- Using GroupKFold for training & testing model performance"
   ]
  },
  {
   "cell_type": "code",
   "execution_count": 1,
   "metadata": {},
   "outputs": [
    {
     "name": "stderr",
     "output_type": "stream",
     "text": [
      "/home/ucapmgb/.conda/envs/Fathom/lib/python3.11/site-packages/albumentations/__init__.py:28: UserWarning: A new version of Albumentations is available: '2.0.6' (you have '2.0.4'). Upgrade using: pip install -U albumentations. To disable automatic update checks, set the environment variable NO_ALBUMENTATIONS_UPDATE to 1.\n",
      "  check_for_updates()\n",
      "/home/ucapmgb/.conda/envs/Fathom/lib/python3.11/site-packages/albumentations/core/validation.py:58: UserWarning: ShiftScaleRotate is a special case of Affine transform. Please use Affine transform instead.\n",
      "  original_init(self, **validated_kwargs)\n",
      "/share/gpu5/ucapmgb/levee-hunter/levee_hunter/augmentations.py:16: UserWarning: Argument(s) 'alpha_affine' are not valid for transform ElasticTransform\n",
      "  A.ElasticTransform(\n",
      "/share/gpu5/ucapmgb/levee-hunter/levee_hunter/augmentations.py:19: UserWarning: Using lambda is incompatible with multiprocessing. Consider using regular functions or partial().\n",
      "  A.Lambda(\n",
      "/share/gpu5/ucapmgb/levee-hunter/levee_hunter/augmentations.py:32: UserWarning: Using lambda is incompatible with multiprocessing. Consider using regular functions or partial().\n",
      "  A.Lambda(\n",
      "/share/gpu5/ucapmgb/levee-hunter/levee_hunter/augmentations.py:47: UserWarning: Using lambda is incompatible with multiprocessing. Consider using regular functions or partial().\n",
      "  A.Lambda(\n",
      "/share/gpu5/ucapmgb/levee-hunter/levee_hunter/augmentations.py:56: UserWarning: Using lambda is incompatible with multiprocessing. Consider using regular functions or partial().\n",
      "  A.Lambda(\n",
      "/share/gpu5/ucapmgb/levee-hunter/levee_hunter/augmentations.py:66: UserWarning: Using lambda is incompatible with multiprocessing. Consider using regular functions or partial().\n",
      "  A.Lambda(\n"
     ]
    }
   ],
   "source": [
    "import matplotlib.pyplot as plt\n",
    "import pandas as pd\n",
    "import torch\n",
    "import torch.nn as nn\n",
    "import torch.optim as optim\n",
    "\n",
    "from levee_hunter.levees_dataset import LeveesDataset\n",
    "from levee_hunter.modeling.groupkfold import GroupKFoldTraining\n",
    "from levee_hunter.modeling.train import train_final_model\n",
    "\n",
    "import segmentation_models_pytorch as smp\n",
    "from segmentation_models_pytorch.losses import DiceLoss"
   ]
  },
  {
   "cell_type": "markdown",
   "metadata": {},
   "source": [
    "### Create the Dataset"
   ]
  },
  {
   "cell_type": "code",
   "execution_count": 2,
   "metadata": {},
   "outputs": [],
   "source": [
    "dataset = LeveesDataset(\n",
    "    images_dir='/share/gpu5/ucapmgb/levee-hunter/data/processed/_testing/13_384_invert/images',\n",
    "    masks_dir='/share/gpu5/ucapmgb/levee-hunter/data/processed/_testing/13_384_invert/masks',\n",
    "    transform=None,\n",
    "    weighted=True,\n",
    "    )"
   ]
  },
  {
   "cell_type": "markdown",
   "metadata": {},
   "source": [
    "### Loss Function\n",
    "In this case we've used a combined loss function that uses both BCE and Dice loss weighted equally."
   ]
  },
  {
   "cell_type": "code",
   "execution_count": 3,
   "metadata": {},
   "outputs": [],
   "source": [
    "# Define a combined loss function that uses both BCE and Dice loss\n",
    "class DiceBCELoss(nn.Module):\n",
    "   def __init__(self, bce_weight=0.5, dice_weight=0.5, mode='binary'):\n",
    "      super(DiceBCELoss, self).__init__()\n",
    "      self.bce_weight = bce_weight\n",
    "      self.dice_weight = dice_weight\n",
    "      self.bce = nn.BCEWithLogitsLoss()\n",
    "      self.dice = DiceLoss(mode=mode)\n",
    "      \n",
    "   def forward(self, y_pred, y_true):\n",
    "      bce_loss = self.bce(y_pred, y_true)\n",
    "      dice_loss = self.dice(y_pred, y_true)\n",
    "      return self.bce_weight * bce_loss + self.dice_weight * dice_loss"
   ]
  },
  {
   "cell_type": "markdown",
   "metadata": {},
   "source": [
    "### Device"
   ]
  },
  {
   "cell_type": "code",
   "execution_count": 4,
   "metadata": {},
   "outputs": [
    {
     "data": {
      "text/plain": [
       "device(type='cuda')"
      ]
     },
     "execution_count": 4,
     "metadata": {},
     "output_type": "execute_result"
    }
   ],
   "source": [
    "device = torch.device(\"cuda\" if torch.cuda.is_available() else \"cpu\")\n",
    "device"
   ]
  },
  {
   "cell_type": "markdown",
   "metadata": {},
   "source": [
    "### Model"
   ]
  },
  {
   "cell_type": "code",
   "execution_count": 5,
   "metadata": {},
   "outputs": [],
   "source": [
    "model = smp.UnetPlusPlus(\n",
    "    encoder_name=\"resnet50\", encoder_weights=\"imagenet\", in_channels=1, classes=1\n",
    ").to(device)"
   ]
  },
  {
   "cell_type": "markdown",
   "metadata": {},
   "source": [
    "### Optimizer\n"
   ]
  },
  {
   "cell_type": "code",
   "execution_count": 6,
   "metadata": {},
   "outputs": [],
   "source": [
    "optimizer = optim.Adam(model.parameters(), lr=1e-4)"
   ]
  },
  {
   "cell_type": "markdown",
   "metadata": {},
   "source": [
    "### Training"
   ]
  },
  {
   "cell_type": "code",
   "execution_count": 7,
   "metadata": {},
   "outputs": [],
   "source": [
    "model_path_output = \"../models/UnetPlusPlus/Unet-13_384\""
   ]
  },
  {
   "cell_type": "code",
   "execution_count": 8,
   "metadata": {},
   "outputs": [
    {
     "name": "stdout",
     "output_type": "stream",
     "text": [
      "Starting fold 1/5\n",
      "beginning training on device: cuda\n",
      "Model successfully saved to: ../models/UnetPlusPlus/Unet-13_384_1.pth\n",
      "Model successfully saved to: ../models/UnetPlusPlus/Unet-13_384_1.pth\n",
      "Model successfully saved to: ../models/UnetPlusPlus/Unet-13_384_1.pth\n",
      "Model successfully saved to: ../models/UnetPlusPlus/Unet-13_384_1.pth\n",
      "Model successfully saved to: ../models/UnetPlusPlus/Unet-13_384_1.pth\n",
      "Model successfully saved to: ../models/UnetPlusPlus/Unet-13_384_1.pth\n",
      "Model successfully saved to: ../models/UnetPlusPlus/Unet-13_384_1.pth\n",
      "Model successfully saved to: ../models/UnetPlusPlus/Unet-13_384_1.pth\n",
      "Model successfully saved to: ../models/UnetPlusPlus/Unet-13_384_1.pth\n",
      "Model successfully saved to: ../models/UnetPlusPlus/Unet-13_384_1.pth\n",
      "Trained UnetPlusPlus model with ResNetEncoder encoder.\n",
      "Calculating overall metrics for this fold...\n",
      "\n",
      "Fold 1 metrics: \n",
      "Dice=0.9975, \n",
      "IoU=0.9975, \n",
      "Distance=0.0007, \n",
      "Val Loss=0.0316\n",
      "Starting fold 2/5\n",
      "beginning training on device: cuda\n",
      "Model successfully saved to: ../models/UnetPlusPlus/Unet-13_384_2.pth\n",
      "Model successfully saved to: ../models/UnetPlusPlus/Unet-13_384_2.pth\n",
      "Model successfully saved to: ../models/UnetPlusPlus/Unet-13_384_2.pth\n",
      "Model successfully saved to: ../models/UnetPlusPlus/Unet-13_384_2.pth\n",
      "Model successfully saved to: ../models/UnetPlusPlus/Unet-13_384_2.pth\n",
      "Model successfully saved to: ../models/UnetPlusPlus/Unet-13_384_2.pth\n",
      "Model successfully saved to: ../models/UnetPlusPlus/Unet-13_384_2.pth\n",
      "Model successfully saved to: ../models/UnetPlusPlus/Unet-13_384_2.pth\n",
      "Model successfully saved to: ../models/UnetPlusPlus/Unet-13_384_2.pth\n",
      "Trained UnetPlusPlus model with ResNetEncoder encoder.\n",
      "Calculating overall metrics for this fold...\n",
      "\n",
      "Fold 2 metrics: \n",
      "Dice=0.9986, \n",
      "IoU=0.9986, \n",
      "Distance=0.0012, \n",
      "Val Loss=0.0185\n",
      "Starting fold 3/5\n",
      "beginning training on device: cuda\n",
      "Model successfully saved to: ../models/UnetPlusPlus/Unet-13_384_3.pth\n",
      "Model successfully saved to: ../models/UnetPlusPlus/Unet-13_384_3.pth\n",
      "Model successfully saved to: ../models/UnetPlusPlus/Unet-13_384_3.pth\n",
      "Trained UnetPlusPlus model with ResNetEncoder encoder.\n",
      "Calculating overall metrics for this fold...\n",
      "\n",
      "Fold 3 metrics: \n",
      "Dice=0.9985, \n",
      "IoU=0.9985, \n",
      "Distance=0.0017, \n",
      "Val Loss=0.0184\n",
      "Starting fold 4/5\n",
      "beginning training on device: cuda\n",
      "Model successfully saved to: ../models/UnetPlusPlus/Unet-13_384_4.pth\n",
      "Trained UnetPlusPlus model with ResNetEncoder encoder.\n",
      "Calculating overall metrics for this fold...\n",
      "\n",
      "Fold 4 metrics: \n",
      "Dice=0.9987, \n",
      "IoU=0.9987, \n",
      "Distance=0.0014, \n",
      "Val Loss=0.0155\n",
      "Starting fold 5/5\n",
      "beginning training on device: cuda\n",
      "Model successfully saved to: ../models/UnetPlusPlus/Unet-13_384_5.pth\n",
      "Model successfully saved to: ../models/UnetPlusPlus/Unet-13_384_5.pth\n",
      "Model successfully saved to: ../models/UnetPlusPlus/Unet-13_384_5.pth\n",
      "Trained UnetPlusPlus model with ResNetEncoder encoder.\n",
      "Calculating overall metrics for this fold...\n",
      "\n",
      "Fold 5 metrics: \n",
      "Dice=0.9990, \n",
      "IoU=0.9990, \n",
      "Distance=0.0012, \n",
      "Val Loss=0.0133\n"
     ]
    }
   ],
   "source": [
    "fold_results, all_train_losses, all_val_losses, per_image_results = GroupKFoldTraining(\n",
    "   dataset=dataset, \n",
    "   device=device,\n",
    "   model=model,\n",
    "   optimizer=optimizer,\n",
    "   criterion=DiceBCELoss(bce_weight=0.5, dice_weight=0.5),\n",
    "   model_path_output=model_path_output,\n",
    "   num_folds=5,\n",
    "   epochs=10,\n",
    "   batch_size=16,\n",
    ")\n"
   ]
  },
  {
   "cell_type": "markdown",
   "metadata": {},
   "source": [
    "### Fold Results\n"
   ]
  },
  {
   "cell_type": "code",
   "execution_count": 9,
   "metadata": {},
   "outputs": [
    {
     "name": "stdout",
     "output_type": "stream",
     "text": [
      "K-fold Cross Validation Results:\n",
      "   fold      dice       iou  distance  val_loss\n",
      "0     1  0.997529  0.997529  0.000668  0.031633\n",
      "1     2  0.998635  0.998635  0.001242  0.018529\n",
      "2     3  0.998502  0.998502  0.001650  0.018377\n",
      "3     4  0.998734  0.998734  0.001432  0.015510\n",
      "4     5  0.999036  0.999036  0.001170  0.013343\n",
      "\n",
      "Mean results across all folds:\n",
      "dice        0.998487\n",
      "iou         0.998487\n",
      "distance    0.001232\n",
      "val_loss    0.019478\n",
      "dtype: float64\n"
     ]
    }
   ],
   "source": [
    "# Combine per-image results across all folds\n",
    "all_per_image_results = pd.concat(per_image_results, ignore_index=True)\n",
    "# Convert results to floats\n",
    "all_per_image_results['dice'] = all_per_image_results['dice'].astype(float)\n",
    "all_per_image_results['iou'] = all_per_image_results['iou'].astype(float)\n",
    "all_per_image_results['distance'] = all_per_image_results['distance'].astype(float)\n",
    "\n",
    "\n",
    "# Summarize results across folds\n",
    "df_results = pd.DataFrame(fold_results)\n",
    "print(\"K-fold Cross Validation Results:\")\n",
    "print(df_results)\n",
    "print(\"\\nMean results across all folds:\")\n",
    "print(df_results.drop('fold', axis=1).mean())"
   ]
  },
  {
   "cell_type": "code",
   "execution_count": 10,
   "metadata": {},
   "outputs": [
    {
     "data": {
      "image/png": "[encoded data removed]",
      "text/plain": [
       "<Figure size 1000x600 with 3 Axes>"
      ]
     },
     "metadata": {},
     "output_type": "display_data"
    }
   ],
   "source": [
    "# Visualize per-image metric distributions\n",
    "plt.figure(figsize=(10, 6))\n",
    "\n",
    "plt.subplot(2, 2, 1)\n",
    "plt.hist(all_per_image_results['dice'], bins=100, alpha=0.7, density=True)\n",
    "plt.title('Distribution of Dice Scores')\n",
    "plt.xlabel('Dice Score')\n",
    "\n",
    "plt.subplot(2, 2, 2)\n",
    "plt.hist(all_per_image_results['iou'], bins=100, alpha=0.7, density=True)\n",
    "plt.title('Distribution of IoU Scores')\n",
    "plt.xlabel('IoU Score')\n",
    "\n",
    "plt.subplot(2, 2, 3)\n",
    "plt.hist(all_per_image_results['distance'], bins=100, alpha=0.7, density=True)\n",
    "plt.title('Distribution of Average Distance')\n",
    "plt.xlabel('Average Distance')\n",
    "\n",
    "plt.tight_layout()\n",
    "plt.show()"
   ]
  },
  {
   "cell_type": "markdown",
   "metadata": {},
   "source": [
    "# Train Final Model\n",
    "Train model using full dataset once training and testing has been finalised"
   ]
  },
  {
   "cell_type": "code",
   "execution_count": 7,
   "metadata": {},
   "outputs": [
    {
     "name": "stdout",
     "output_type": "stream",
     "text": [
      "Retraining on full dataset with 1316 samples on device: cuda\n",
      "Epoch 1/25 - Average Loss: 0.702514\n",
      "Epoch 2/25 - Average Loss: 0.604405\n",
      "Epoch 3/25 - Average Loss: 0.562098\n",
      "Epoch 4/25 - Average Loss: 0.534785\n",
      "Epoch 5/25 - Average Loss: 0.519492\n",
      "Epoch 6/25 - Average Loss: 0.511616\n",
      "Epoch 7/25 - Average Loss: 0.508699\n",
      "Epoch 8/25 - Average Loss: 0.508035\n",
      "Epoch 9/25 - Average Loss: 0.508262\n",
      "Epoch 10/25 - Average Loss: 0.508763\n",
      "Epoch 11/25 - Average Loss: 0.509158\n",
      "Epoch 12/25 - Average Loss: 0.509142\n",
      "Epoch 13/25 - Average Loss: 0.509694\n",
      "Epoch 14/25 - Average Loss: 0.509247\n",
      "Epoch 15/25 - Average Loss: 0.509317\n",
      "Epoch 16/25 - Average Loss: 0.509360\n",
      "Epoch 17/25 - Average Loss: 0.509481\n",
      "Epoch 18/25 - Average Loss: 0.509416\n",
      "Epoch 19/25 - Average Loss: 0.509366\n",
      "Epoch 20/25 - Average Loss: 0.508955\n",
      "Epoch 21/25 - Average Loss: 0.509160\n",
      "Epoch 22/25 - Average Loss: 0.508694\n",
      "Epoch 23/25 - Average Loss: 0.508978\n",
      "Epoch 24/25 - Average Loss: 0.508568\n",
      "Epoch 25/25 - Average Loss: 0.508487\n"
     ]
    },
    {
     "data": {
      "image/png": "[encoded data removed]",
      "text/plain": [
       "<Figure size 640x480 with 1 Axes>"
      ]
     },
     "metadata": {},
     "output_type": "display_data"
    },
    {
     "name": "stdout",
     "output_type": "stream",
     "text": [
      "Model successfully saved to: ../models/UnetPlusPlus/Unet_final.pth\n"
     ]
    }
   ],
   "source": [
    "model = train_final_model(\n",
    "    model,\n",
    "    full_dataset=dataset,\n",
    "    optimizer=optimizer,\n",
    "    criterion=DiceBCELoss(bce_weight=0.5, dice_weight=0.5),\n",
    "    epochs=25,\n",
    "    batch_size=16,\n",
    "    save_model_path=\"../models/UnetPlusPlus/Unet_final.pth\",\n",
    "    suppress_output=False,\n",
    "    plot_loss=True,\n",
    ")"
   ]
  },
  {
   "cell_type": "code",
   "execution_count": null,
   "metadata": {},
   "outputs": [],
   "source": []
  }
 ],
 "metadata": {
  "kernelspec": {
   "display_name": "Python 3 (ipykernel)",
   "language": "python",
   "name": "python3"
  },
  "language_info": {
   "codemirror_mode": {
    "name": "ipython",
    "version": 3
   },
   "file_extension": ".py",
   "mimetype": "text/x-python",
   "name": "python",
   "nbconvert_exporter": "python",
   "pygments_lexer": "ipython3",
   "version": "3.11.11"
  }
 },
 "nbformat": 4,
 "nbformat_minor": 2
}
