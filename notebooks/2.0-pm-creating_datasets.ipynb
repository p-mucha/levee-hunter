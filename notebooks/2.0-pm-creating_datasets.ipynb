{
 "cells": [
  {
   "cell_type": "code",
   "execution_count": 1,
   "metadata": {},
   "outputs": [
    {
     "name": "stderr",
     "output_type": "stream",
     "text": [
      "/home/pmucha/.conda/envs/fathom/lib/python3.11/site-packages/albumentations/core/validation.py:58: UserWarning: ShiftScaleRotate is a special case of Affine transform. Please use Affine transform instead.\n",
      "  original_init(self, **validated_kwargs)\n",
      "/share/gpu5/pmucha/fathom/levee-hunter/levee_hunter/augmentations.py:17: UserWarning: Argument(s) 'alpha_affine' are not valid for transform ElasticTransform\n",
      "  A.ElasticTransform(\n"
     ]
    }
   ],
   "source": [
    "from levee_hunter.dataset_images_choice import interactive_dataset_creation\n",
    "from levee_hunter.paths import find_project_root\n",
    "from levee_hunter.utils import find_splits\n",
    "from levee_hunter.paths import check_if_file_exists\n"
   ]
  },
  {
   "cell_type": "code",
   "execution_count": 2,
   "metadata": {},
   "outputs": [
    {
     "name": "stdout",
     "output_type": "stream",
     "text": [
      "n, overlap, total_covered\n"
     ]
    },
    {
     "data": {
      "text/plain": [
       "[(20, 12, 10012),\n",
       " (21, 37, 10012),\n",
       " (20, 13, 9993),\n",
       " (21, 38, 9992),\n",
       " (20, 14, 9974),\n",
       " (21, 39, 9972)]"
      ]
     },
     "execution_count": 2,
     "metadata": {},
     "output_type": "execute_result"
    }
   ],
   "source": [
    "find_splits(10012, 512, max_overlap_frac=0.1)[:6]"
   ]
  },
  {
   "cell_type": "code",
   "execution_count": 3,
   "metadata": {},
   "outputs": [],
   "source": [
    "levees_file = \"../data/raw/w3-Levees/levees.gpkg\"\n",
    "db_path = '../data/files_db/1m_512.db'"
   ]
  },
  {
   "cell_type": "code",
   "execution_count": 4,
   "metadata": {},
   "outputs": [
    {
     "data": {
      "text/plain": [
       "True"
      ]
     },
     "execution_count": 4,
     "metadata": {},
     "output_type": "execute_result"
    }
   ],
   "source": [
    "from pathlib import Path\n",
    "check_if_file_exists(Path(db_path))"
   ]
  },
  {
   "cell_type": "code",
   "execution_count": 5,
   "metadata": {},
   "outputs": [
    {
     "name": "stdout",
     "output_type": "stream",
     "text": [
      "14\n"
     ]
    }
   ],
   "source": [
    "from levee_hunter.database_management import count_files_by_state\n",
    "import sqlite3\n",
    "conn = sqlite3.connect(db_path)\n",
    "print(count_files_by_state(conn, state='unused'))\n",
    "\n",
    "conn.close()"
   ]
  },
  {
   "cell_type": "code",
   "execution_count": 6,
   "metadata": {},
   "outputs": [
    {
     "name": "stdout",
     "output_type": "stream",
     "text": [
      "Process finished.\n"
     ]
    }
   ],
   "source": [
    "interactive_dataset_creation(\n",
    "    db_path=db_path,\n",
    "    levees_file_path=levees_file,\n",
    "    resolution=\"1m\",\n",
    "    size=512,\n",
    "    overlap=12,\n",
    "    dilation_s=12\n",
    "    \n",
    ")"
   ]
  },
  {
   "cell_type": "code",
   "execution_count": null,
   "metadata": {},
   "outputs": [],
   "source": []
  }
 ],
 "metadata": {
  "kernelspec": {
   "display_name": "Python 3 (ipykernel)",
   "language": "python",
   "name": "python3"
  },
  "language_info": {
   "codemirror_mode": {
    "name": "ipython",
    "version": 3
   },
   "file_extension": ".py",
   "mimetype": "text/x-python",
   "name": "python",
   "nbconvert_exporter": "python",
   "pygments_lexer": "ipython3",
   "version": "3.11.11"
  }
 },
 "nbformat": 4,
 "nbformat_minor": 2
}
