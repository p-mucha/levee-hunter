{
 "cells": [
  {
   "cell_type": "markdown",
   "metadata": {},
   "source": [
    "# Training 1/3 resolution models (318px)"
   ]
  },
  {
   "cell_type": "code",
   "execution_count": 1,
   "metadata": {},
   "outputs": [
    {
     "name": "stderr",
     "output_type": "stream",
     "text": [
      "/home/ucapmgb/.conda/envs/Fathom/lib/python3.11/site-packages/albumentations/__init__.py:28: UserWarning: A new version of Albumentations is available: '2.0.5' (you have '2.0.4'). Upgrade using: pip install -U albumentations. To disable automatic update checks, set the environment variable NO_ALBUMENTATIONS_UPDATE to 1.\n",
      "  check_for_updates()\n",
      "/home/ucapmgb/.conda/envs/Fathom/lib/python3.11/site-packages/albumentations/core/validation.py:58: UserWarning: ShiftScaleRotate is a special case of Affine transform. Please use Affine transform instead.\n",
      "  original_init(self, **validated_kwargs)\n",
      "/share/gpu5/ucapmgb/levee-hunter/levee_hunter/augmentations.py:16: UserWarning: Argument(s) 'alpha_affine' are not valid for transform ElasticTransform\n",
      "  A.ElasticTransform(\n",
      "/share/gpu5/ucapmgb/levee-hunter/levee_hunter/augmentations.py:19: UserWarning: Using lambda is incompatible with multiprocessing. Consider using regular functions or partial().\n",
      "  A.Lambda(\n",
      "/share/gpu5/ucapmgb/levee-hunter/levee_hunter/augmentations.py:32: UserWarning: Using lambda is incompatible with multiprocessing. Consider using regular functions or partial().\n",
      "  A.Lambda(\n",
      "/share/gpu5/ucapmgb/levee-hunter/levee_hunter/augmentations.py:47: UserWarning: Using lambda is incompatible with multiprocessing. Consider using regular functions or partial().\n",
      "  A.Lambda(\n",
      "/share/gpu5/ucapmgb/levee-hunter/levee_hunter/augmentations.py:56: UserWarning: Using lambda is incompatible with multiprocessing. Consider using regular functions or partial().\n",
      "  A.Lambda(\n",
      "/share/gpu5/ucapmgb/levee-hunter/levee_hunter/augmentations.py:66: UserWarning: Using lambda is incompatible with multiprocessing. Consider using regular functions or partial().\n",
      "  A.Lambda(\n"
     ]
    }
   ],
   "source": [
    "import matplotlib.pyplot as plt\n",
    "import numpy as np\n",
    "import pandas as pd\n",
    "import geopandas as gpd\n",
    "import os\n",
    "import rioxarray\n",
    "import rasterio\n",
    "import re\n",
    "import matplotlib.patches as patches\n",
    "from tqdm import tqdm\n",
    "\n",
    "from levee_hunter.levees_dataset import LeveesDataset\n",
    "from levee_hunter.train_test_val_splitting import *\n",
    "from levee_hunter.modeling.train import train_model\n",
    "from levee_hunter.modeling.inference import get_preds_targets\n",
    "from levee_hunter.modeling.metrics import get_pred_mask, plot_skeletons, custom_metrics, standard_metrics\n",
    "from levee_hunter.plotting import plot_training_validation_loss\n",
    "from levee_hunter.plotting import infer_and_visualize\n",
    "\n",
    "import torch\n",
    "import torch.nn as nn\n",
    "import torch.optim as optim\n",
    "from torch.utils.data import DataLoader\n",
    "\n",
    "import segmentation_models_pytorch as smp\n"
   ]
  },
  {
   "cell_type": "markdown",
   "metadata": {},
   "source": [
    "### Creating Dataset"
   ]
  },
  {
   "cell_type": "code",
   "execution_count": 2,
   "metadata": {},
   "outputs": [
    {
     "name": "stdout",
     "output_type": "stream",
     "text": [
      "Validation dataset:  141\n",
      "Test dataset:  118\n"
     ]
    }
   ],
   "source": [
    "dataset = LeveesDataset(\n",
    "    images_dir='/share/gpu5/ucapmgb/levee-hunter/data/processed/13_384/images',\n",
    "    masks_dir='/share/gpu5/ucapmgb/levee-hunter/data/processed/13_384/masks',\n",
    "    transform=None,\n",
    "    weighted=True,\n",
    "    )\n",
    "\n",
    "# Validation set split\n",
    "dataset, val_dataset = validation_split(dataset=dataset, val_percentage=0.1, seed=42)\n",
    "print(\"Validation dataset: \", len(val_dataset))\n",
    "val_dataset.weighted = False\n",
    "\n",
    "# Test set split\n",
    "train_dataset, test_dataset = train_test_split_dataset(dataset=dataset, test_size=0.1)\n",
    "print(\"Test dataset: \", len(test_dataset))\n",
    "test_dataset.weighted = False"
   ]
  },
  {
   "cell_type": "markdown",
   "metadata": {},
   "source": [
    "### Create Data Loaders"
   ]
  },
  {
   "cell_type": "code",
   "execution_count": 3,
   "metadata": {},
   "outputs": [],
   "source": [
    "batch_size = 32\n",
    "\n",
    "train_loader = DataLoader(train_dataset, batch_size=batch_size, shuffle=True)\n",
    "test_loader = DataLoader(test_dataset, batch_size=len(test_dataset), shuffle=False)\n",
    "val_loader = DataLoader(val_dataset, batch_size=len(val_dataset), shuffle=False)"
   ]
  },
  {
   "cell_type": "markdown",
   "metadata": {},
   "source": [
    "### Training Model"
   ]
  },
  {
   "cell_type": "code",
   "execution_count": 4,
   "metadata": {},
   "outputs": [
    {
     "data": {
      "text/plain": [
       "device(type='cuda')"
      ]
     },
     "execution_count": 4,
     "metadata": {},
     "output_type": "execute_result"
    }
   ],
   "source": [
    "device = torch.device(\"cuda\" if torch.cuda.is_available() else \"cpu\")\n",
    "device"
   ]
  },
  {
   "cell_type": "code",
   "execution_count": 5,
   "metadata": {},
   "outputs": [],
   "source": [
    "model = smp.Unet(\n",
    "    encoder_name=\"resnet34\", encoder_weights=\"imagenet\", in_channels=1, classes=1\n",
    ").to(device)"
   ]
  },
  {
   "cell_type": "code",
   "execution_count": 6,
   "metadata": {},
   "outputs": [
    {
     "name": "stdout",
     "output_type": "stream",
     "text": [
      "beginning training on device: cuda\n",
      "Epoch: 1/50 Train Loss: 0.293487 Val Loss: 0.223638\n",
      "Model successfully saved to: ../models/Unet-13_384.pth\n",
      "Epoch: 2/50 Train Loss: 0.170432 Val Loss: 0.141227\n",
      "Model successfully saved to: ../models/Unet-13_384.pth\n",
      "Epoch: 3/50 Train Loss: 0.132972 Val Loss: 0.113879\n",
      "Model successfully saved to: ../models/Unet-13_384.pth\n",
      "Epoch: 4/50 Train Loss: 0.111277 Val Loss: 0.096658\n",
      "Model successfully saved to: ../models/Unet-13_384.pth\n",
      "Epoch: 5/50 Train Loss: 0.098027 Val Loss: 0.083798\n",
      "Model successfully saved to: ../models/Unet-13_384.pth\n",
      "Epoch: 6/50 Train Loss: 0.085675 Val Loss: 0.073276\n",
      "Model successfully saved to: ../models/Unet-13_384.pth\n",
      "Epoch: 7/50 Train Loss: 0.080356 Val Loss: 0.067202\n",
      "Model successfully saved to: ../models/Unet-13_384.pth\n",
      "Epoch: 8/50 Train Loss: 0.073365 Val Loss: 0.063743\n",
      "Model successfully saved to: ../models/Unet-13_384.pth\n",
      "Epoch: 9/50 Train Loss: 0.067257 Val Loss: 0.057516\n",
      "Model successfully saved to: ../models/Unet-13_384.pth\n",
      "Epoch: 10/50 Train Loss: 0.063299 Val Loss: 0.052017\n",
      "Model successfully saved to: ../models/Unet-13_384.pth\n",
      "Epoch: 11/50 Train Loss: 0.060422 Val Loss: 0.047204\n",
      "Model successfully saved to: ../models/Unet-13_384.pth\n",
      "Epoch: 12/50 Train Loss: 0.058708 Val Loss: 0.043987\n",
      "Model successfully saved to: ../models/Unet-13_384.pth\n",
      "Epoch: 13/50 Train Loss: 0.052994 Val Loss: 0.042364\n",
      "Model successfully saved to: ../models/Unet-13_384.pth\n",
      "Epoch: 14/50 Train Loss: 0.051606 Val Loss: 0.040795\n",
      "Model successfully saved to: ../models/Unet-13_384.pth\n",
      "Epoch: 15/50 Train Loss: 0.046488 Val Loss: 0.036074\n",
      "Model successfully saved to: ../models/Unet-13_384.pth\n",
      "Epoch: 16/50 Train Loss: 0.041704 Val Loss: 0.032883\n",
      "Model successfully saved to: ../models/Unet-13_384.pth\n",
      "Epoch: 17/50 Train Loss: 0.042766 Val Loss: 0.032694\n",
      "Model successfully saved to: ../models/Unet-13_384.pth\n",
      "Epoch: 18/50 Train Loss: 0.042474 Val Loss: 0.031809\n",
      "Model successfully saved to: ../models/Unet-13_384.pth\n",
      "Epoch: 19/50 Train Loss: 0.038789 Val Loss: 0.030313\n",
      "Model successfully saved to: ../models/Unet-13_384.pth\n",
      "Epoch: 20/50 Train Loss: 0.034894 Val Loss: 0.028682\n",
      "Model successfully saved to: ../models/Unet-13_384.pth\n",
      "Epoch: 21/50 Train Loss: 0.032927 Val Loss: 0.026560\n",
      "Model successfully saved to: ../models/Unet-13_384.pth\n",
      "Epoch: 22/50 Train Loss: 0.031770 Val Loss: 0.026595\n",
      "Epoch: 23/50 Train Loss: 0.029923 Val Loss: 0.025571\n",
      "Model successfully saved to: ../models/Unet-13_384.pth\n",
      "Epoch: 24/50 Train Loss: 0.029136 Val Loss: 0.023888\n",
      "Model successfully saved to: ../models/Unet-13_384.pth\n",
      "Epoch: 25/50 Train Loss: 0.031465 Val Loss: 0.021570\n",
      "Model successfully saved to: ../models/Unet-13_384.pth\n",
      "Epoch: 26/50 Train Loss: 0.034440 Val Loss: 0.022896\n",
      "Epoch: 27/50 Train Loss: 0.029913 Val Loss: 0.020051\n",
      "Model successfully saved to: ../models/Unet-13_384.pth\n",
      "Epoch: 28/50 Train Loss: 0.029157 Val Loss: 0.020083\n",
      "Epoch: 29/50 Train Loss: 0.031899 Val Loss: 0.018906\n",
      "Model successfully saved to: ../models/Unet-13_384.pth\n",
      "Epoch: 30/50 Train Loss: 0.027362 Val Loss: 0.020652\n",
      "Epoch: 31/50 Train Loss: 0.026535 Val Loss: 0.017279\n",
      "Model successfully saved to: ../models/Unet-13_384.pth\n",
      "Epoch: 32/50 Train Loss: 0.027578 Val Loss: 0.018401\n",
      "Epoch: 33/50 Train Loss: 0.028530 Val Loss: 0.017879\n",
      "Epoch: 34/50 Train Loss: 0.025028 Val Loss: 0.019553\n",
      "Epoch: 35/50 Train Loss: 0.026608 Val Loss: 0.017302\n",
      "Epoch: 36/50 Train Loss: 0.028742 Val Loss: 0.017338\n",
      "Epoch: 37/50 Train Loss: 0.026724 Val Loss: 0.019983\n",
      "Epoch: 38/50 Train Loss: 0.024459 Val Loss: 0.015978\n",
      "Model successfully saved to: ../models/Unet-13_384.pth\n",
      "Epoch: 39/50 Train Loss: 0.022236 Val Loss: 0.016894\n",
      "Epoch: 40/50 Train Loss: 0.021108 Val Loss: 0.015840\n",
      "Model successfully saved to: ../models/Unet-13_384.pth\n",
      "Epoch: 41/50 Train Loss: 0.023960 Val Loss: 0.014862\n",
      "Model successfully saved to: ../models/Unet-13_384.pth\n",
      "Epoch: 42/50 Train Loss: 0.022085 Val Loss: 0.015890\n",
      "Epoch: 43/50 Train Loss: 0.024243 Val Loss: 0.013646\n",
      "Model successfully saved to: ../models/Unet-13_384.pth\n",
      "Epoch: 44/50 Train Loss: 0.020063 Val Loss: 0.014183\n",
      "Epoch: 45/50 Train Loss: 0.020060 Val Loss: 0.033206\n",
      "Epoch: 46/50 Train Loss: 0.023032 Val Loss: 0.014829\n",
      "Epoch: 47/50 Train Loss: 0.019660 Val Loss: 0.014206\n",
      "Epoch: 48/50 Train Loss: 0.019096 Val Loss: 0.013281\n",
      "Model successfully saved to: ../models/Unet-13_384.pth\n",
      "Epoch: 49/50 Train Loss: 0.017843 Val Loss: 0.013717\n",
      "Epoch: 50/50 Train Loss: 0.018398 Val Loss: 0.012636\n",
      "Model successfully saved to: ../models/Unet-13_384.pth\n",
      "Trained Unet model with ResNetEncoder encoder.\n"
     ]
    }
   ],
   "source": [
    "# Define loss function\n",
    "optimizer = optim.Adam(model.parameters(), lr=1e-4)\n",
    "\n",
    "model, train_loss, val_loss = train_model(\n",
    "    model=model,\n",
    "    train_loader=train_loader,\n",
    "    val_loader=test_loader,\n",
    "    optimizer=optimizer,\n",
    "    criterion=nn.BCEWithLogitsLoss(reduction=\"none\"),\n",
    "    epochs=50,\n",
    "    save_model='best',\n",
    "    save_model_path=\"../models/Unet-13_384.pth\",\n",
    ")"
   ]
  },
  {
   "cell_type": "code",
   "execution_count": 7,
   "metadata": {},
   "outputs": [
    {
     "data": {
      "image/png": "[encoded data removed]",
      "text/plain": [
       "<Figure size 800x500 with 1 Axes>"
      ]
     },
     "metadata": {},
     "output_type": "display_data"
    }
   ],
   "source": [
    "plot_training_validation_loss(train_loss[:], val_loss[:])"
   ]
  },
  {
   "cell_type": "markdown",
   "metadata": {},
   "source": [
    "### Validating Model"
   ]
  },
  {
   "cell_type": "code",
   "execution_count": 8,
   "metadata": {},
   "outputs": [
    {
     "data": {
      "text/plain": [
       "Unet(\n",
       "  (encoder): ResNetEncoder(\n",
       "    (conv1): Conv2d(1, 64, kernel_size=(7, 7), stride=(2, 2), padding=(3, 3), bias=False)\n",
       "    (bn1): BatchNorm2d(64, eps=1e-05, momentum=0.1, affine=True, track_running_stats=True)\n",
       "    (relu): ReLU(inplace=True)\n",
       "    (maxpool): MaxPool2d(kernel_size=3, stride=2, padding=1, dilation=1, ceil_mode=False)\n",
       "    (layer1): Sequential(\n",
       "      (0): BasicBlock(\n",
       "        (conv1): Conv2d(64, 64, kernel_size=(3, 3), stride=(1, 1), padding=(1, 1), bias=False)\n",
       "        (bn1): BatchNorm2d(64, eps=1e-05, momentum=0.1, affine=True, track_running_stats=True)\n",
       "        (relu): ReLU(inplace=True)\n",
       "        (conv2): Conv2d(64, 64, kernel_size=(3, 3), stride=(1, 1), padding=(1, 1), bias=False)\n",
       "        (bn2): BatchNorm2d(64, eps=1e-05, momentum=0.1, affine=True, track_running_stats=True)\n",
       "      )\n",
       "      (1): BasicBlock(\n",
       "        (conv1): Conv2d(64, 64, kernel_size=(3, 3), stride=(1, 1), padding=(1, 1), bias=False)\n",
       "        (bn1): BatchNorm2d(64, eps=1e-05, momentum=0.1, affine=True, track_running_stats=True)\n",
       "        (relu): ReLU(inplace=True)\n",
       "        (conv2): Conv2d(64, 64, kernel_size=(3, 3), stride=(1, 1), padding=(1, 1), bias=False)\n",
       "        (bn2): BatchNorm2d(64, eps=1e-05, momentum=0.1, affine=True, track_running_stats=True)\n",
       "      )\n",
       "      (2): BasicBlock(\n",
       "        (conv1): Conv2d(64, 64, kernel_size=(3, 3), stride=(1, 1), padding=(1, 1), bias=False)\n",
       "        (bn1): BatchNorm2d(64, eps=1e-05, momentum=0.1, affine=True, track_running_stats=True)\n",
       "        (relu): ReLU(inplace=True)\n",
       "        (conv2): Conv2d(64, 64, kernel_size=(3, 3), stride=(1, 1), padding=(1, 1), bias=False)\n",
       "        (bn2): BatchNorm2d(64, eps=1e-05, momentum=0.1, affine=True, track_running_stats=True)\n",
       "      )\n",
       "    )\n",
       "    (layer2): Sequential(\n",
       "      (0): BasicBlock(\n",
       "        (conv1): Conv2d(64, 128, kernel_size=(3, 3), stride=(2, 2), padding=(1, 1), bias=False)\n",
       "        (bn1): BatchNorm2d(128, eps=1e-05, momentum=0.1, affine=True, track_running_stats=True)\n",
       "        (relu): ReLU(inplace=True)\n",
       "        (conv2): Conv2d(128, 128, kernel_size=(3, 3), stride=(1, 1), padding=(1, 1), bias=False)\n",
       "        (bn2): BatchNorm2d(128, eps=1e-05, momentum=0.1, affine=True, track_running_stats=True)\n",
       "        (downsample): Sequential(\n",
       "          (0): Conv2d(64, 128, kernel_size=(1, 1), stride=(2, 2), bias=False)\n",
       "          (1): BatchNorm2d(128, eps=1e-05, momentum=0.1, affine=True, track_running_stats=True)\n",
       "        )\n",
       "      )\n",
       "      (1): BasicBlock(\n",
       "        (conv1): Conv2d(128, 128, kernel_size=(3, 3), stride=(1, 1), padding=(1, 1), bias=False)\n",
       "        (bn1): BatchNorm2d(128, eps=1e-05, momentum=0.1, affine=True, track_running_stats=True)\n",
       "        (relu): ReLU(inplace=True)\n",
       "        (conv2): Conv2d(128, 128, kernel_size=(3, 3), stride=(1, 1), padding=(1, 1), bias=False)\n",
       "        (bn2): BatchNorm2d(128, eps=1e-05, momentum=0.1, affine=True, track_running_stats=True)\n",
       "      )\n",
       "      (2): BasicBlock(\n",
       "        (conv1): Conv2d(128, 128, kernel_size=(3, 3), stride=(1, 1), padding=(1, 1), bias=False)\n",
       "        (bn1): BatchNorm2d(128, eps=1e-05, momentum=0.1, affine=True, track_running_stats=True)\n",
       "        (relu): ReLU(inplace=True)\n",
       "        (conv2): Conv2d(128, 128, kernel_size=(3, 3), stride=(1, 1), padding=(1, 1), bias=False)\n",
       "        (bn2): BatchNorm2d(128, eps=1e-05, momentum=0.1, affine=True, track_running_stats=True)\n",
       "      )\n",
       "      (3): BasicBlock(\n",
       "        (conv1): Conv2d(128, 128, kernel_size=(3, 3), stride=(1, 1), padding=(1, 1), bias=False)\n",
       "        (bn1): BatchNorm2d(128, eps=1e-05, momentum=0.1, affine=True, track_running_stats=True)\n",
       "        (relu): ReLU(inplace=True)\n",
       "        (conv2): Conv2d(128, 128, kernel_size=(3, 3), stride=(1, 1), padding=(1, 1), bias=False)\n",
       "        (bn2): BatchNorm2d(128, eps=1e-05, momentum=0.1, affine=True, track_running_stats=True)\n",
       "      )\n",
       "    )\n",
       "    (layer3): Sequential(\n",
       "      (0): BasicBlock(\n",
       "        (conv1): Conv2d(128, 256, kernel_size=(3, 3), stride=(2, 2), padding=(1, 1), bias=False)\n",
       "        (bn1): BatchNorm2d(256, eps=1e-05, momentum=0.1, affine=True, track_running_stats=True)\n",
       "        (relu): ReLU(inplace=True)\n",
       "        (conv2): Conv2d(256, 256, kernel_size=(3, 3), stride=(1, 1), padding=(1, 1), bias=False)\n",
       "        (bn2): BatchNorm2d(256, eps=1e-05, momentum=0.1, affine=True, track_running_stats=True)\n",
       "        (downsample): Sequential(\n",
       "          (0): Conv2d(128, 256, kernel_size=(1, 1), stride=(2, 2), bias=False)\n",
       "          (1): BatchNorm2d(256, eps=1e-05, momentum=0.1, affine=True, track_running_stats=True)\n",
       "        )\n",
       "      )\n",
       "      (1): BasicBlock(\n",
       "        (conv1): Conv2d(256, 256, kernel_size=(3, 3), stride=(1, 1), padding=(1, 1), bias=False)\n",
       "        (bn1): BatchNorm2d(256, eps=1e-05, momentum=0.1, affine=True, track_running_stats=True)\n",
       "        (relu): ReLU(inplace=True)\n",
       "        (conv2): Conv2d(256, 256, kernel_size=(3, 3), stride=(1, 1), padding=(1, 1), bias=False)\n",
       "        (bn2): BatchNorm2d(256, eps=1e-05, momentum=0.1, affine=True, track_running_stats=True)\n",
       "      )\n",
       "      (2): BasicBlock(\n",
       "        (conv1): Conv2d(256, 256, kernel_size=(3, 3), stride=(1, 1), padding=(1, 1), bias=False)\n",
       "        (bn1): BatchNorm2d(256, eps=1e-05, momentum=0.1, affine=True, track_running_stats=True)\n",
       "        (relu): ReLU(inplace=True)\n",
       "        (conv2): Conv2d(256, 256, kernel_size=(3, 3), stride=(1, 1), padding=(1, 1), bias=False)\n",
       "        (bn2): BatchNorm2d(256, eps=1e-05, momentum=0.1, affine=True, track_running_stats=True)\n",
       "      )\n",
       "      (3): BasicBlock(\n",
       "        (conv1): Conv2d(256, 256, kernel_size=(3, 3), stride=(1, 1), padding=(1, 1), bias=False)\n",
       "        (bn1): BatchNorm2d(256, eps=1e-05, momentum=0.1, affine=True, track_running_stats=True)\n",
       "        (relu): ReLU(inplace=True)\n",
       "        (conv2): Conv2d(256, 256, kernel_size=(3, 3), stride=(1, 1), padding=(1, 1), bias=False)\n",
       "        (bn2): BatchNorm2d(256, eps=1e-05, momentum=0.1, affine=True, track_running_stats=True)\n",
       "      )\n",
       "      (4): BasicBlock(\n",
       "        (conv1): Conv2d(256, 256, kernel_size=(3, 3), stride=(1, 1), padding=(1, 1), bias=False)\n",
       "        (bn1): BatchNorm2d(256, eps=1e-05, momentum=0.1, affine=True, track_running_stats=True)\n",
       "        (relu): ReLU(inplace=True)\n",
       "        (conv2): Conv2d(256, 256, kernel_size=(3, 3), stride=(1, 1), padding=(1, 1), bias=False)\n",
       "        (bn2): BatchNorm2d(256, eps=1e-05, momentum=0.1, affine=True, track_running_stats=True)\n",
       "      )\n",
       "      (5): BasicBlock(\n",
       "        (conv1): Conv2d(256, 256, kernel_size=(3, 3), stride=(1, 1), padding=(1, 1), bias=False)\n",
       "        (bn1): BatchNorm2d(256, eps=1e-05, momentum=0.1, affine=True, track_running_stats=True)\n",
       "        (relu): ReLU(inplace=True)\n",
       "        (conv2): Conv2d(256, 256, kernel_size=(3, 3), stride=(1, 1), padding=(1, 1), bias=False)\n",
       "        (bn2): BatchNorm2d(256, eps=1e-05, momentum=0.1, affine=True, track_running_stats=True)\n",
       "      )\n",
       "    )\n",
       "    (layer4): Sequential(\n",
       "      (0): BasicBlock(\n",
       "        (conv1): Conv2d(256, 512, kernel_size=(3, 3), stride=(2, 2), padding=(1, 1), bias=False)\n",
       "        (bn1): BatchNorm2d(512, eps=1e-05, momentum=0.1, affine=True, track_running_stats=True)\n",
       "        (relu): ReLU(inplace=True)\n",
       "        (conv2): Conv2d(512, 512, kernel_size=(3, 3), stride=(1, 1), padding=(1, 1), bias=False)\n",
       "        (bn2): BatchNorm2d(512, eps=1e-05, momentum=0.1, affine=True, track_running_stats=True)\n",
       "        (downsample): Sequential(\n",
       "          (0): Conv2d(256, 512, kernel_size=(1, 1), stride=(2, 2), bias=False)\n",
       "          (1): BatchNorm2d(512, eps=1e-05, momentum=0.1, affine=True, track_running_stats=True)\n",
       "        )\n",
       "      )\n",
       "      (1): BasicBlock(\n",
       "        (conv1): Conv2d(512, 512, kernel_size=(3, 3), stride=(1, 1), padding=(1, 1), bias=False)\n",
       "        (bn1): BatchNorm2d(512, eps=1e-05, momentum=0.1, affine=True, track_running_stats=True)\n",
       "        (relu): ReLU(inplace=True)\n",
       "        (conv2): Conv2d(512, 512, kernel_size=(3, 3), stride=(1, 1), padding=(1, 1), bias=False)\n",
       "        (bn2): BatchNorm2d(512, eps=1e-05, momentum=0.1, affine=True, track_running_stats=True)\n",
       "      )\n",
       "      (2): BasicBlock(\n",
       "        (conv1): Conv2d(512, 512, kernel_size=(3, 3), stride=(1, 1), padding=(1, 1), bias=False)\n",
       "        (bn1): BatchNorm2d(512, eps=1e-05, momentum=0.1, affine=True, track_running_stats=True)\n",
       "        (relu): ReLU(inplace=True)\n",
       "        (conv2): Conv2d(512, 512, kernel_size=(3, 3), stride=(1, 1), padding=(1, 1), bias=False)\n",
       "        (bn2): BatchNorm2d(512, eps=1e-05, momentum=0.1, affine=True, track_running_stats=True)\n",
       "      )\n",
       "    )\n",
       "  )\n",
       "  (decoder): UnetDecoder(\n",
       "    (center): Identity()\n",
       "    (blocks): ModuleList(\n",
       "      (0): DecoderBlock(\n",
       "        (conv1): Conv2dReLU(\n",
       "          (0): Conv2d(768, 256, kernel_size=(3, 3), stride=(1, 1), padding=(1, 1), bias=False)\n",
       "          (1): BatchNorm2d(256, eps=1e-05, momentum=0.1, affine=True, track_running_stats=True)\n",
       "          (2): ReLU(inplace=True)\n",
       "        )\n",
       "        (attention1): Attention(\n",
       "          (attention): Identity()\n",
       "        )\n",
       "        (conv2): Conv2dReLU(\n",
       "          (0): Conv2d(256, 256, kernel_size=(3, 3), stride=(1, 1), padding=(1, 1), bias=False)\n",
       "          (1): BatchNorm2d(256, eps=1e-05, momentum=0.1, affine=True, track_running_stats=True)\n",
       "          (2): ReLU(inplace=True)\n",
       "        )\n",
       "        (attention2): Attention(\n",
       "          (attention): Identity()\n",
       "        )\n",
       "      )\n",
       "      (1): DecoderBlock(\n",
       "        (conv1): Conv2dReLU(\n",
       "          (0): Conv2d(384, 128, kernel_size=(3, 3), stride=(1, 1), padding=(1, 1), bias=False)\n",
       "          (1): BatchNorm2d(128, eps=1e-05, momentum=0.1, affine=True, track_running_stats=True)\n",
       "          (2): ReLU(inplace=True)\n",
       "        )\n",
       "        (attention1): Attention(\n",
       "          (attention): Identity()\n",
       "        )\n",
       "        (conv2): Conv2dReLU(\n",
       "          (0): Conv2d(128, 128, kernel_size=(3, 3), stride=(1, 1), padding=(1, 1), bias=False)\n",
       "          (1): BatchNorm2d(128, eps=1e-05, momentum=0.1, affine=True, track_running_stats=True)\n",
       "          (2): ReLU(inplace=True)\n",
       "        )\n",
       "        (attention2): Attention(\n",
       "          (attention): Identity()\n",
       "        )\n",
       "      )\n",
       "      (2): DecoderBlock(\n",
       "        (conv1): Conv2dReLU(\n",
       "          (0): Conv2d(192, 64, kernel_size=(3, 3), stride=(1, 1), padding=(1, 1), bias=False)\n",
       "          (1): BatchNorm2d(64, eps=1e-05, momentum=0.1, affine=True, track_running_stats=True)\n",
       "          (2): ReLU(inplace=True)\n",
       "        )\n",
       "        (attention1): Attention(\n",
       "          (attention): Identity()\n",
       "        )\n",
       "        (conv2): Conv2dReLU(\n",
       "          (0): Conv2d(64, 64, kernel_size=(3, 3), stride=(1, 1), padding=(1, 1), bias=False)\n",
       "          (1): BatchNorm2d(64, eps=1e-05, momentum=0.1, affine=True, track_running_stats=True)\n",
       "          (2): ReLU(inplace=True)\n",
       "        )\n",
       "        (attention2): Attention(\n",
       "          (attention): Identity()\n",
       "        )\n",
       "      )\n",
       "      (3): DecoderBlock(\n",
       "        (conv1): Conv2dReLU(\n",
       "          (0): Conv2d(128, 32, kernel_size=(3, 3), stride=(1, 1), padding=(1, 1), bias=False)\n",
       "          (1): BatchNorm2d(32, eps=1e-05, momentum=0.1, affine=True, track_running_stats=True)\n",
       "          (2): ReLU(inplace=True)\n",
       "        )\n",
       "        (attention1): Attention(\n",
       "          (attention): Identity()\n",
       "        )\n",
       "        (conv2): Conv2dReLU(\n",
       "          (0): Conv2d(32, 32, kernel_size=(3, 3), stride=(1, 1), padding=(1, 1), bias=False)\n",
       "          (1): BatchNorm2d(32, eps=1e-05, momentum=0.1, affine=True, track_running_stats=True)\n",
       "          (2): ReLU(inplace=True)\n",
       "        )\n",
       "        (attention2): Attention(\n",
       "          (attention): Identity()\n",
       "        )\n",
       "      )\n",
       "      (4): DecoderBlock(\n",
       "        (conv1): Conv2dReLU(\n",
       "          (0): Conv2d(32, 16, kernel_size=(3, 3), stride=(1, 1), padding=(1, 1), bias=False)\n",
       "          (1): BatchNorm2d(16, eps=1e-05, momentum=0.1, affine=True, track_running_stats=True)\n",
       "          (2): ReLU(inplace=True)\n",
       "        )\n",
       "        (attention1): Attention(\n",
       "          (attention): Identity()\n",
       "        )\n",
       "        (conv2): Conv2dReLU(\n",
       "          (0): Conv2d(16, 16, kernel_size=(3, 3), stride=(1, 1), padding=(1, 1), bias=False)\n",
       "          (1): BatchNorm2d(16, eps=1e-05, momentum=0.1, affine=True, track_running_stats=True)\n",
       "          (2): ReLU(inplace=True)\n",
       "        )\n",
       "        (attention2): Attention(\n",
       "          (attention): Identity()\n",
       "        )\n",
       "      )\n",
       "    )\n",
       "  )\n",
       "  (segmentation_head): SegmentationHead(\n",
       "    (0): Conv2d(16, 1, kernel_size=(3, 3), stride=(1, 1), padding=(1, 1))\n",
       "    (1): Identity()\n",
       "    (2): Activation(\n",
       "      (activation): Identity()\n",
       "    )\n",
       "  )\n",
       ")"
      ]
     },
     "execution_count": 8,
     "metadata": {},
     "output_type": "execute_result"
    }
   ],
   "source": [
    "# load saved model\n",
    "model.load_state_dict(torch.load(\"../models/Unet-13_384.pth\"))\n",
    "model.eval()"
   ]
  },
  {
   "cell_type": "code",
   "execution_count": 9,
   "metadata": {},
   "outputs": [
    {
     "name": "stdout",
     "output_type": "stream",
     "text": [
      "----------------------Standard Metrics----------------------\n",
      "IoU Score:         0.0225\n",
      "F1 Score (Dice):   0.0440\n",
      "Accuracy:          0.9974\n",
      "Recall:            0.3272\n",
      "------------------------------------------------------------\n"
     ]
    }
   ],
   "source": [
    "all_preds, all_targets = get_preds_targets(model, test_loader, device=device)\n",
    "standard_metrics(targets=all_targets, predictions=all_preds, threshold=0.5)"
   ]
  },
  {
   "cell_type": "code",
   "execution_count": null,
   "metadata": {},
   "outputs": [
    {
     "data": {
      "image/png": "[encoded data removed]",
      "text/plain": [
       "<Figure size 1500x500 with 3 Axes>"
      ]
     },
     "metadata": {},
     "output_type": "display_data"
    }
   ],
   "source": [
    "# Visualize predictions\n",
    "i = 0\n",
    "pred_mask, target_mask = get_pred_mask(all_preds, all_targets, i)\n",
    "\n",
    "plot_skeletons(pred_mask, d=1, d_merge=1, gt_mask=target_mask)"
   ]
  }
 ],
 "metadata": {
  "kernelspec": {
   "display_name": "Python 3 (ipykernel)",
   "language": "python",
   "name": "python3"
  },
  "language_info": {
   "codemirror_mode": {
    "name": "ipython",
    "version": 3
   },
   "file_extension": ".py",
   "mimetype": "text/x-python",
   "name": "python",
   "nbconvert_exporter": "python",
   "pygments_lexer": "ipython3",
   "version": "3.11.11"
  }
 },
 "nbformat": 4,
 "nbformat_minor": 2
}
