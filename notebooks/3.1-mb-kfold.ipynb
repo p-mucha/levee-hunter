{
 "cells": [
  {
   "cell_type": "markdown",
   "metadata": {},
   "source": [
    "# Training 1/3 resolution models (318px)"
   ]
  },
  {
   "cell_type": "code",
   "execution_count": 1,
   "metadata": {},
   "outputs": [
    {
     "name": "stderr",
     "output_type": "stream",
     "text": [
      "/home/ucapmgb/.conda/envs/Fathom/lib/python3.11/site-packages/albumentations/__init__.py:28: UserWarning: A new version of Albumentations is available: '2.0.5' (you have '2.0.4'). Upgrade using: pip install -U albumentations. To disable automatic update checks, set the environment variable NO_ALBUMENTATIONS_UPDATE to 1.\n",
      "  check_for_updates()\n",
      "/home/ucapmgb/.conda/envs/Fathom/lib/python3.11/site-packages/albumentations/core/validation.py:58: UserWarning: ShiftScaleRotate is a special case of Affine transform. Please use Affine transform instead.\n",
      "  original_init(self, **validated_kwargs)\n",
      "/share/gpu5/ucapmgb/levee-hunter/levee_hunter/augmentations.py:16: UserWarning: Argument(s) 'alpha_affine' are not valid for transform ElasticTransform\n",
      "  A.ElasticTransform(\n",
      "/share/gpu5/ucapmgb/levee-hunter/levee_hunter/augmentations.py:19: UserWarning: Using lambda is incompatible with multiprocessing. Consider using regular functions or partial().\n",
      "  A.Lambda(\n",
      "/share/gpu5/ucapmgb/levee-hunter/levee_hunter/augmentations.py:32: UserWarning: Using lambda is incompatible with multiprocessing. Consider using regular functions or partial().\n",
      "  A.Lambda(\n",
      "/share/gpu5/ucapmgb/levee-hunter/levee_hunter/augmentations.py:47: UserWarning: Using lambda is incompatible with multiprocessing. Consider using regular functions or partial().\n",
      "  A.Lambda(\n",
      "/share/gpu5/ucapmgb/levee-hunter/levee_hunter/augmentations.py:56: UserWarning: Using lambda is incompatible with multiprocessing. Consider using regular functions or partial().\n",
      "  A.Lambda(\n",
      "/share/gpu5/ucapmgb/levee-hunter/levee_hunter/augmentations.py:66: UserWarning: Using lambda is incompatible with multiprocessing. Consider using regular functions or partial().\n",
      "  A.Lambda(\n"
     ]
    }
   ],
   "source": [
    "import matplotlib.pyplot as plt\n",
    "import numpy as np\n",
    "import pandas as pd\n",
    "import geopandas as gpd\n",
    "import re\n",
    "import random\n",
    "from tqdm import tqdm\n",
    "\n",
    "from levee_hunter.levees_dataset import LeveesDataset\n",
    "from levee_hunter.train_test_val_splitting import *\n",
    "from levee_hunter.modeling.train import train_model\n",
    "from levee_hunter.modeling.inference import get_preds_targets\n",
    "from levee_hunter.modeling.metrics import get_tp_fp_fn\n",
    "from levee_hunter.modeling.modeling_utils import compute_avg_distance\n",
    "\n",
    "import torch\n",
    "import torch.nn as nn\n",
    "import torch.optim as optim\n",
    "from torch.utils.data import DataLoader\n",
    "\n",
    "from sklearn.model_selection import GroupKFold\n",
    "\n",
    "import segmentation_models_pytorch as smp\n",
    "from segmentation_models_pytorch.losses import DiceLoss\n"
   ]
  },
  {
   "cell_type": "markdown",
   "metadata": {},
   "source": [
    "### Creating Dataset"
   ]
  },
  {
   "cell_type": "code",
   "execution_count": 2,
   "metadata": {},
   "outputs": [],
   "source": [
    "dataset = LeveesDataset(\n",
    "    images_dir='/share/gpu5/ucapmgb/levee-hunter/data/processed/_testing/13_384_invert/images',\n",
    "    masks_dir='/share/gpu5/ucapmgb/levee-hunter/data/processed/_testing/13_384_invert/masks',\n",
    "    transform=None,\n",
    "    weighted=True,\n",
    "    )"
   ]
  },
  {
   "cell_type": "markdown",
   "metadata": {},
   "source": [
    "### Training Model"
   ]
  },
  {
   "cell_type": "code",
   "execution_count": 3,
   "metadata": {},
   "outputs": [],
   "source": [
    "# Define a combined loss function that uses both BCE and Dice loss\n",
    "class DiceBCELoss(nn.Module):\n",
    "   def __init__(self, bce_weight=0.5, dice_weight=0.5, mode='binary'):\n",
    "      super(DiceBCELoss, self).__init__()\n",
    "      self.bce_weight = bce_weight\n",
    "      self.dice_weight = dice_weight\n",
    "      self.bce = nn.BCEWithLogitsLoss()\n",
    "      self.dice = DiceLoss(mode=mode)\n",
    "      \n",
    "   def forward(self, y_pred, y_true):\n",
    "      bce_loss = self.bce(y_pred, y_true)\n",
    "      dice_loss = self.dice(y_pred, y_true)\n",
    "      return self.bce_weight * bce_loss + self.dice_weight * dice_loss"
   ]
  },
  {
   "cell_type": "code",
   "execution_count": 4,
   "metadata": {},
   "outputs": [
    {
     "data": {
      "text/plain": [
       "device(type='cuda')"
      ]
     },
     "execution_count": 4,
     "metadata": {},
     "output_type": "execute_result"
    }
   ],
   "source": [
    "device = torch.device(\"cuda\" if torch.cuda.is_available() else \"cpu\")\n",
    "device"
   ]
  },
  {
   "cell_type": "code",
   "execution_count": 5,
   "metadata": {},
   "outputs": [],
   "source": [
    "model = smp.UnetPlusPlus(\n",
    "    encoder_name=\"resnet50\", encoder_weights=\"imagenet\", in_channels=1, classes=1\n",
    ").to(device)\n",
    "\n",
    "optimizer = optim.Adam(model.parameters(), lr=1e-4)"
   ]
  },
  {
   "cell_type": "code",
   "execution_count": 6,
   "metadata": {},
   "outputs": [],
   "source": [
    "def dice_score(y_true, y_pred, smooth=1e-6):\n",
    "    y_true = y_true.view(-1)\n",
    "    y_pred = y_pred.view(-1)\n",
    "    intersection = (y_true * y_pred).sum()\n",
    "    return (2. * intersection + smooth) / (y_true.sum() + y_pred.sum() + smooth)\n",
    "\n",
    "def iou_score(y_true, y_pred, smooth=1e-6):\n",
    "    y_true = y_true.view(-1)\n",
    "    y_pred = y_pred.view(-1)\n",
    "    intersection = (y_true * y_pred).sum()\n",
    "    union = y_true.sum() + y_pred.sum() - intersection\n",
    "    return (intersection + smooth) / (union + smooth)"
   ]
  },
  {
   "cell_type": "code",
   "execution_count": 7,
   "metadata": {},
   "outputs": [],
   "source": [
    "def dice_from_counts(tp, fp, fn):\n",
    "    \"\"\"Calculate Dice score from true positives, false positives, and false negatives\"\"\"\n",
    "    return 2 * tp / (2 * tp + fp + fn + 1e-6)\n",
    "\n",
    "def iou_from_counts(tp, fp, fn):\n",
    "    \"\"\"Calculate IoU score from true positives, false positives, and false negatives\"\"\"\n",
    "    return tp / (tp + fp + fn + 1e-6)"
   ]
  },
  {
   "cell_type": "code",
   "execution_count": 8,
   "metadata": {},
   "outputs": [
    {
     "name": "stdout",
     "output_type": "stream",
     "text": [
      "Total images: 1316\n",
      "Unique groups: 44\n"
     ]
    }
   ],
   "source": [
    "# Groups based on filenames\n",
    "# Extract group IDs from the file paths - keeping everything before \"_pX_wY\"\n",
    "groups = []\n",
    "for path in dataset.img_paths:\n",
    "   # Convert path to string if it's a Path object\n",
    "   path_str = str(path)\n",
    "   # Extract the base pattern without \"_pX_wY.tif\"\n",
    "   match = re.search(r'(.+)_p\\d+_w\\d+\\.tif$', path_str)\n",
    "   if match:\n",
    "      group_id = match.group(1)\n",
    "      groups.append(group_id)\n",
    "   else:\n",
    "      # Fallback if pattern doesn't match\n",
    "      groups.append(path_str)\n",
    "\n",
    "print(f\"Total images: {len(groups)}\")\n",
    "print(f\"Unique groups: {len(set(groups))}\")\n",
    "\n",
    "unique_groups = list(set(groups))\n",
    "random.shuffle(unique_groups)\n",
    "group_to_idx = {g: i for i, g in enumerate(unique_groups)}\n",
    "group_ids = [group_to_idx[g] for g in groups]"
   ]
  },
  {
   "cell_type": "code",
   "execution_count": 9,
   "metadata": {},
   "outputs": [
    {
     "name": "stdout",
     "output_type": "stream",
     "text": [
      "Starting fold 1/5\n",
      "beginning training on device: cuda\n",
      "Model successfully saved to: ../models/Unet-13_384_invert_fold1.pth\n",
      "Model successfully saved to: ../models/Unet-13_384_invert_fold1.pth\n",
      "Model successfully saved to: ../models/Unet-13_384_invert_fold1.pth\n",
      "Model successfully saved to: ../models/Unet-13_384_invert_fold1.pth\n",
      "Model successfully saved to: ../models/Unet-13_384_invert_fold1.pth\n",
      "Model successfully saved to: ../models/Unet-13_384_invert_fold1.pth\n",
      "Model successfully saved to: ../models/Unet-13_384_invert_fold1.pth\n",
      "Model successfully saved to: ../models/Unet-13_384_invert_fold1.pth\n",
      "Model successfully saved to: ../models/Unet-13_384_invert_fold1.pth\n",
      "Model successfully saved to: ../models/Unet-13_384_invert_fold1.pth\n",
      "Trained UnetPlusPlus model with ResNetEncoder encoder.\n"
     ]
    },
    {
     "name": "stderr",
     "output_type": "stream",
     "text": [
      "Processing images: 100%|██████████| 263/263 [00:04<00:00, 59.53it/s]\n"
     ]
    },
    {
     "name": "stdout",
     "output_type": "stream",
     "text": [
      "Calculating overall metrics for this fold...\n",
      "\n",
      "Fold 1 metrics: \n",
      "Dice=0.9964, \n",
      "IoU=0.9964, \n",
      "Distance=0.0008, \n",
      "Val Loss=0.0325\n",
      "Starting fold 2/5\n",
      "beginning training on device: cuda\n",
      "Model successfully saved to: ../models/Unet-13_384_invert_fold2.pth\n",
      "Model successfully saved to: ../models/Unet-13_384_invert_fold2.pth\n",
      "Model successfully saved to: ../models/Unet-13_384_invert_fold2.pth\n",
      "Model successfully saved to: ../models/Unet-13_384_invert_fold2.pth\n",
      "Model successfully saved to: ../models/Unet-13_384_invert_fold2.pth\n",
      "Model successfully saved to: ../models/Unet-13_384_invert_fold2.pth\n",
      "Model successfully saved to: ../models/Unet-13_384_invert_fold2.pth\n",
      "Model successfully saved to: ../models/Unet-13_384_invert_fold2.pth\n",
      "Model successfully saved to: ../models/Unet-13_384_invert_fold2.pth\n",
      "Model successfully saved to: ../models/Unet-13_384_invert_fold2.pth\n",
      "Trained UnetPlusPlus model with ResNetEncoder encoder.\n"
     ]
    },
    {
     "name": "stderr",
     "output_type": "stream",
     "text": [
      "Processing images: 100%|██████████| 264/264 [00:04<00:00, 57.77it/s]\n"
     ]
    },
    {
     "name": "stdout",
     "output_type": "stream",
     "text": [
      "Calculating overall metrics for this fold...\n",
      "\n",
      "Fold 2 metrics: \n",
      "Dice=0.9977, \n",
      "IoU=0.9977, \n",
      "Distance=0.0014, \n",
      "Val Loss=0.0288\n",
      "Starting fold 3/5\n",
      "beginning training on device: cuda\n",
      "Model successfully saved to: ../models/Unet-13_384_invert_fold3.pth\n",
      "Model successfully saved to: ../models/Unet-13_384_invert_fold3.pth\n",
      "Model successfully saved to: ../models/Unet-13_384_invert_fold3.pth\n",
      "Model successfully saved to: ../models/Unet-13_384_invert_fold3.pth\n",
      "Model successfully saved to: ../models/Unet-13_384_invert_fold3.pth\n",
      "Model successfully saved to: ../models/Unet-13_384_invert_fold3.pth\n",
      "Trained UnetPlusPlus model with ResNetEncoder encoder.\n"
     ]
    },
    {
     "name": "stderr",
     "output_type": "stream",
     "text": [
      "Processing images: 100%|██████████| 263/263 [00:04<00:00, 58.39it/s]\n"
     ]
    },
    {
     "name": "stdout",
     "output_type": "stream",
     "text": [
      "Calculating overall metrics for this fold...\n",
      "\n",
      "Fold 3 metrics: \n",
      "Dice=0.9965, \n",
      "IoU=0.9965, \n",
      "Distance=0.0011, \n",
      "Val Loss=0.0344\n",
      "Starting fold 4/5\n",
      "beginning training on device: cuda\n",
      "Model successfully saved to: ../models/Unet-13_384_invert_fold4.pth\n",
      "Model successfully saved to: ../models/Unet-13_384_invert_fold4.pth\n",
      "Model successfully saved to: ../models/Unet-13_384_invert_fold4.pth\n",
      "Model successfully saved to: ../models/Unet-13_384_invert_fold4.pth\n",
      "Model successfully saved to: ../models/Unet-13_384_invert_fold4.pth\n",
      "Model successfully saved to: ../models/Unet-13_384_invert_fold4.pth\n",
      "Model successfully saved to: ../models/Unet-13_384_invert_fold4.pth\n",
      "Model successfully saved to: ../models/Unet-13_384_invert_fold4.pth\n",
      "Model successfully saved to: ../models/Unet-13_384_invert_fold4.pth\n",
      "Model successfully saved to: ../models/Unet-13_384_invert_fold4.pth\n",
      "Trained UnetPlusPlus model with ResNetEncoder encoder.\n"
     ]
    },
    {
     "name": "stderr",
     "output_type": "stream",
     "text": [
      "Processing images: 100%|██████████| 263/263 [00:04<00:00, 56.41it/s]\n"
     ]
    },
    {
     "name": "stdout",
     "output_type": "stream",
     "text": [
      "Calculating overall metrics for this fold...\n",
      "\n",
      "Fold 4 metrics: \n",
      "Dice=0.9979, \n",
      "IoU=0.9979, \n",
      "Distance=0.0024, \n",
      "Val Loss=0.0346\n",
      "Starting fold 5/5\n",
      "beginning training on device: cuda\n",
      "Model successfully saved to: ../models/Unet-13_384_invert_fold5.pth\n",
      "Model successfully saved to: ../models/Unet-13_384_invert_fold5.pth\n",
      "Model successfully saved to: ../models/Unet-13_384_invert_fold5.pth\n",
      "Model successfully saved to: ../models/Unet-13_384_invert_fold5.pth\n",
      "Model successfully saved to: ../models/Unet-13_384_invert_fold5.pth\n",
      "Model successfully saved to: ../models/Unet-13_384_invert_fold5.pth\n",
      "Model successfully saved to: ../models/Unet-13_384_invert_fold5.pth\n",
      "Model successfully saved to: ../models/Unet-13_384_invert_fold5.pth\n",
      "Model successfully saved to: ../models/Unet-13_384_invert_fold5.pth\n",
      "Trained UnetPlusPlus model with ResNetEncoder encoder.\n"
     ]
    },
    {
     "name": "stderr",
     "output_type": "stream",
     "text": [
      "Processing images: 100%|██████████| 263/263 [00:04<00:00, 57.71it/s]"
     ]
    },
    {
     "name": "stdout",
     "output_type": "stream",
     "text": [
      "Calculating overall metrics for this fold...\n",
      "\n",
      "Fold 5 metrics: \n",
      "Dice=0.9979, \n",
      "IoU=0.9979, \n",
      "Distance=0.0017, \n",
      "Val Loss=0.0334\n"
     ]
    },
    {
     "name": "stderr",
     "output_type": "stream",
     "text": [
      "\n"
     ]
    }
   ],
   "source": [
    "# Number of folds for cross-validation\n",
    "num_folds = 5\n",
    "\n",
    "# Create a GroupKFold instead of regular KFold\n",
    "kfold = GroupKFold(n_splits=num_folds)\n",
    "\n",
    "# Lists to store metrics for each fold\n",
    "fold_results = []\n",
    "all_train_losses = []\n",
    "all_val_losses = []\n",
    "per_image_results = []  # To store per-image results\n",
    "\n",
    "# Create a list of all dataset indices\n",
    "dataset_size = len(dataset)\n",
    "indices = list(range(dataset_size))\n",
    "\n",
    "batch_size = 16\n",
    "\n",
    "for fold, (train_idx, val_idx) in enumerate(kfold.split(indices, groups=group_ids)):\n",
    "   print(f\"Starting fold {fold+1}/{num_folds}\")\n",
    "   \n",
    "   # Create train and validation subdatasets\n",
    "   train_subsampler = torch.utils.data.SubsetRandomSampler(train_idx)\n",
    "   val_subsampler = torch.utils.data.SubsetRandomSampler(val_idx)\n",
    "   \n",
    "   # Define data loaders for this fold\n",
    "   fold_train_loader = DataLoader(\n",
    "      dataset, \n",
    "      batch_size=batch_size, \n",
    "      sampler=train_subsampler,\n",
    "      shuffle=False\n",
    "   )\n",
    "   \n",
    "   fold_val_loader = DataLoader(\n",
    "      dataset,\n",
    "      batch_size=batch_size,\n",
    "      sampler=val_subsampler,\n",
    "      shuffle=False\n",
    "   )\n",
    "   \n",
    "   # Reset model for each fold\n",
    "   model = smp.UnetPlusPlus(\n",
    "      encoder_name=\"resnet50\", \n",
    "      encoder_weights=\"imagenet\", \n",
    "      in_channels=1, \n",
    "      classes=1\n",
    "   ).to(device)\n",
    "   \n",
    "   optimizer = optim.Adam(model.parameters(), lr=1e-4)\n",
    "\n",
    "   # Define model name with fold number to save each fold's model separately\n",
    "   model_path = f\"../models/Unet-13_384_invert_fold{fold+1}.pth\"\n",
    "\n",
    "   model, train_losses, val_losses = train_model(\n",
    "      model=model,\n",
    "      train_loader=fold_train_loader,\n",
    "      test_loader=fold_val_loader,\n",
    "      optimizer=optimizer,\n",
    "      criterion=DiceBCELoss(),\n",
    "      epochs=10,\n",
    "      suppress_output=True,\n",
    "      save_model='best',\n",
    "      save_model_path=model_path,\n",
    "   )\n",
    "   \n",
    "   # Save the losses\n",
    "   all_train_losses.append(train_losses)\n",
    "   all_val_losses.append(val_losses)\n",
    "   \n",
    "   # Evaluate the model\n",
    "   model.eval()\n",
    "   preds, targets = get_preds_targets(model=model, val_loader=fold_val_loader, device=device)\n",
    "\n",
    "   # Get the actual image indices from the validation sampler\n",
    "   # We need to map back to the original dataset indices\n",
    "   val_indices = [val_idx[i] for i in range(len(preds))]\n",
    "   # Get file names for the validation images\n",
    "   val_filenames = [dataset.img_paths[idx] for idx in val_indices]\n",
    "   \n",
    "   image_metrics = []\n",
    "   for i in tqdm(range(len(preds)), desc=\"Processing images\"):\n",
    "      pred = preds[i]\n",
    "      target = targets[i]\n",
    "      \n",
    "      # Calculate metrics for this image\n",
    "      dice = dice_score(target, pred)\n",
    "      iou = dice_score(target, pred)\n",
    "      # tp, fp, fn = get_tp_fp_fn(pred, target, d=3, d_merge=1, visualise=False)\n",
    "      # dice = dice_from_counts(tp, fp, fn)\n",
    "      # iou = iou_from_counts(tp, fp, fn)\n",
    "      distance = compute_avg_distance(pred, target)\n",
    "      \n",
    "      image_metrics.append({\n",
    "         'dice': dice,\n",
    "         'iou': iou,\n",
    "         'distance': distance,\n",
    "         'filename': val_filenames[i]\n",
    "      })\n",
    "   \n",
    "   # Convert to DataFrame\n",
    "   fold_per_image_results = pd.DataFrame(image_metrics)\n",
    "   fold_per_image_results['fold'] = fold+1\n",
    "   per_image_results.append(fold_per_image_results)\n",
    "   \n",
    "\n",
    "   # Calculate overall metrics\n",
    "   print(\"Calculating overall metrics for this fold...\")\n",
    "   avg_dice = np.mean([m['dice'] for m in image_metrics])\n",
    "   avg_iou = np.mean([m['iou'] for m in image_metrics])\n",
    "   avg_distance = np.mean([m['distance'] for m in image_metrics])\n",
    "   \n",
    "   # Create metrics dictionary for this fold\n",
    "   fold_metrics = {\n",
    "      'fold': fold + 1,\n",
    "      'dice': avg_dice,\n",
    "      'iou': avg_iou,\n",
    "      'distance': avg_distance,\n",
    "      'val_loss': val_losses[-1]  # Final validation loss\n",
    "   }\n",
    "   \n",
    "   # Append to results list\n",
    "   fold_results.append(fold_metrics)\n",
    "   \n",
    "   print(f\"\\nFold {fold+1} metrics: \\nDice={avg_dice:.4f}, \\nIoU={avg_iou:.4f}, \\nDistance={avg_distance:.4f}, \\nVal Loss={val_losses[-1]:.4f}\")"
   ]
  },
  {
   "cell_type": "markdown",
   "metadata": {},
   "source": [
    "### Results"
   ]
  },
  {
   "cell_type": "code",
   "execution_count": 13,
   "metadata": {},
   "outputs": [
    {
     "name": "stdout",
     "output_type": "stream",
     "text": [
      "K-fold Cross Validation Results:\n",
      "   fold      dice       iou  distance  val_loss\n",
      "0     1  0.996437  0.996437  0.000816  0.032505\n",
      "1     2  0.997715  0.997715  0.001358  0.028776\n",
      "2     3  0.996547  0.996547  0.001112  0.034404\n",
      "3     4  0.997943  0.997943  0.002398  0.034635\n",
      "4     5  0.997940  0.997940  0.001731  0.033405\n",
      "\n",
      "Mean results across all folds:\n",
      "dice        0.997316\n",
      "iou         0.997316\n",
      "distance    0.001483\n",
      "val_loss    0.032745\n",
      "dtype: float64\n"
     ]
    }
   ],
   "source": [
    "# Combine per-image results across all folds\n",
    "all_per_image_results = pd.concat(per_image_results, ignore_index=True)\n",
    "# Convert results to floats\n",
    "all_per_image_results['dice'] = all_per_image_results['dice'].astype(float)\n",
    "all_per_image_results['iou'] = all_per_image_results['iou'].astype(float)\n",
    "all_per_image_results['distance'] = all_per_image_results['distance'].astype(float)\n",
    "\n",
    "\n",
    "# Summarize results across folds\n",
    "df_results = pd.DataFrame(fold_results)\n",
    "print(\"K-fold Cross Validation Results:\")\n",
    "print(df_results)\n",
    "print(\"\\nMean results across all folds:\")\n",
    "print(df_results.drop('fold', axis=1).mean())"
   ]
  },
  {
   "cell_type": "markdown",
   "metadata": {},
   "source": [
    "### Challenging Images"
   ]
  },
  {
   "cell_type": "code",
   "execution_count": 14,
   "metadata": {},
   "outputs": [
    {
     "name": "stdout",
     "output_type": "stream",
     "text": [
      "\n",
      "Top 10 most challenging images (lowest average Dice score):\n",
      "                                                    dice_mean  dice_count  \\\n",
      "filename                                                                    \n",
      "/share/gpu5/ucapmgb/levee-hunter/data/processed...   0.980641           1   \n",
      "/share/gpu5/ucapmgb/levee-hunter/data/processed...   0.981538           1   \n",
      "/share/gpu5/ucapmgb/levee-hunter/data/processed...   0.981989           1   \n",
      "/share/gpu5/ucapmgb/levee-hunter/data/processed...   0.983281           1   \n",
      "/share/gpu5/ucapmgb/levee-hunter/data/processed...   0.983389           1   \n",
      "/share/gpu5/ucapmgb/levee-hunter/data/processed...   0.984360           1   \n",
      "/share/gpu5/ucapmgb/levee-hunter/data/processed...   0.985082           1   \n",
      "/share/gpu5/ucapmgb/levee-hunter/data/processed...   0.985390           1   \n",
      "/share/gpu5/ucapmgb/levee-hunter/data/processed...   0.985570           1   \n",
      "/share/gpu5/ucapmgb/levee-hunter/data/processed...   0.985629           1   \n",
      "\n",
      "                                                    iou_mean  iou_count  \\\n",
      "filename                                                                  \n",
      "/share/gpu5/ucapmgb/levee-hunter/data/processed...  0.980641          1   \n",
      "/share/gpu5/ucapmgb/levee-hunter/data/processed...  0.981538          1   \n",
      "/share/gpu5/ucapmgb/levee-hunter/data/processed...  0.981989          1   \n",
      "/share/gpu5/ucapmgb/levee-hunter/data/processed...  0.983281          1   \n",
      "/share/gpu5/ucapmgb/levee-hunter/data/processed...  0.983389          1   \n",
      "/share/gpu5/ucapmgb/levee-hunter/data/processed...  0.984360          1   \n",
      "/share/gpu5/ucapmgb/levee-hunter/data/processed...  0.985082          1   \n",
      "/share/gpu5/ucapmgb/levee-hunter/data/processed...  0.985390          1   \n",
      "/share/gpu5/ucapmgb/levee-hunter/data/processed...  0.985570          1   \n",
      "/share/gpu5/ucapmgb/levee-hunter/data/processed...  0.985629          1   \n",
      "\n",
      "                                                    distance_mean  \\\n",
      "filename                                                            \n",
      "/share/gpu5/ucapmgb/levee-hunter/data/processed...       0.001083   \n",
      "/share/gpu5/ucapmgb/levee-hunter/data/processed...       0.000212   \n",
      "/share/gpu5/ucapmgb/levee-hunter/data/processed...       0.000304   \n",
      "/share/gpu5/ucapmgb/levee-hunter/data/processed...       0.000169   \n",
      "/share/gpu5/ucapmgb/levee-hunter/data/processed...       0.000956   \n",
      "/share/gpu5/ucapmgb/levee-hunter/data/processed...       0.000477   \n",
      "/share/gpu5/ucapmgb/levee-hunter/data/processed...       0.004387   \n",
      "/share/gpu5/ucapmgb/levee-hunter/data/processed...       0.002071   \n",
      "/share/gpu5/ucapmgb/levee-hunter/data/processed...       0.000441   \n",
      "/share/gpu5/ucapmgb/levee-hunter/data/processed...       0.000614   \n",
      "\n",
      "                                                    distance_count  \n",
      "filename                                                            \n",
      "/share/gpu5/ucapmgb/levee-hunter/data/processed...               1  \n",
      "/share/gpu5/ucapmgb/levee-hunter/data/processed...               1  \n",
      "/share/gpu5/ucapmgb/levee-hunter/data/processed...               1  \n",
      "/share/gpu5/ucapmgb/levee-hunter/data/processed...               1  \n",
      "/share/gpu5/ucapmgb/levee-hunter/data/processed...               1  \n",
      "/share/gpu5/ucapmgb/levee-hunter/data/processed...               1  \n",
      "/share/gpu5/ucapmgb/levee-hunter/data/processed...               1  \n",
      "/share/gpu5/ucapmgb/levee-hunter/data/processed...               1  \n",
      "/share/gpu5/ucapmgb/levee-hunter/data/processed...               1  \n",
      "/share/gpu5/ucapmgb/levee-hunter/data/processed...               1  \n"
     ]
    }
   ],
   "source": [
    "# Group by original image index and find consistently problematic images\n",
    "# Calculate mean and std of dice scores for each image across folds\n",
    "problem_images = all_per_image_results.groupby('filename').agg({\n",
    "   'dice': ['mean', 'count'],\n",
    "   'iou': ['mean', 'count'],\n",
    "   'distance': ['mean', 'count']\n",
    "})\n",
    "\n",
    "# Extract just the filename without the directory path\n",
    "#problem_images.index = problem_images.index.str.replace('/share/gpu5/ucapmgb/levee-hunter/data/processed/_testing/13_384_invert/images/', '')\n",
    "\n",
    "# Flatten the multi-index columns\n",
    "problem_images.columns = ['_'.join(col).strip() for col in problem_images.columns.values]\n",
    "\n",
    "# Sort by mean dice score (ascending) to find the most problematic images\n",
    "problem_images_sorted = problem_images.sort_values('dice_mean')\n",
    "\n",
    "print(\"\\nTop 10 most challenging images (lowest average Dice score):\")\n",
    "print(problem_images_sorted.head(10))"
   ]
  },
  {
   "cell_type": "code",
   "execution_count": 18,
   "metadata": {},
   "outputs": [
    {
     "data": {
      "image/png": "[encoded data removed]",
      "text/plain": [
       "<Figure size 1000x600 with 3 Axes>"
      ]
     },
     "metadata": {},
     "output_type": "display_data"
    }
   ],
   "source": [
    "# Visualize per-image metric distributions\n",
    "plt.figure(figsize=(10, 6))\n",
    "\n",
    "plt.subplot(2, 2, 1)\n",
    "plt.hist(all_per_image_results['dice'], bins=100, alpha=0.7, density=True)\n",
    "plt.title('Distribution of Dice Scores')\n",
    "plt.xlabel('Dice Score')\n",
    "\n",
    "plt.subplot(2, 2, 2)\n",
    "plt.hist(all_per_image_results['iou'], bins=100, alpha=0.7, density=True)\n",
    "plt.title('Distribution of IoU Scores')\n",
    "plt.xlabel('IoU Score')\n",
    "\n",
    "plt.subplot(2, 2, 3)\n",
    "plt.hist(all_per_image_results['distance'], bins=100, alpha=0.7, density=True)\n",
    "plt.title('Distribution of Average Distance')\n",
    "plt.xlabel('Average Distance')\n",
    "\n",
    "plt.tight_layout()\n",
    "plt.show()"
   ]
  },
  {
   "cell_type": "code",
   "execution_count": null,
   "metadata": {},
   "outputs": [],
   "source": []
  }
 ],
 "metadata": {
  "kernelspec": {
   "display_name": "Python 3 (ipykernel)",
   "language": "python",
   "name": "python3"
  },
  "language_info": {
   "codemirror_mode": {
    "name": "ipython",
    "version": 3
   },
   "file_extension": ".py",
   "mimetype": "text/x-python",
   "name": "python",
   "nbconvert_exporter": "python",
   "pygments_lexer": "ipython3",
   "version": "3.11.11"
  }
 },
 "nbformat": 4,
 "nbformat_minor": 2
}
