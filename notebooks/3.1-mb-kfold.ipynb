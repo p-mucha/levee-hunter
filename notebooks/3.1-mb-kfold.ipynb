{
 "cells": [
  {
   "cell_type": "markdown",
   "metadata": {},
   "source": [
    "# Training 1/3 resolution models (318px)"
   ]
  },
  {
   "cell_type": "code",
   "execution_count": 1,
   "metadata": {},
   "outputs": [
    {
     "name": "stderr",
     "output_type": "stream",
     "text": [
      "/home/ucapmgb/.conda/envs/Fathom/lib/python3.11/site-packages/albumentations/__init__.py:28: UserWarning: A new version of Albumentations is available: '2.0.5' (you have '2.0.4'). Upgrade using: pip install -U albumentations. To disable automatic update checks, set the environment variable NO_ALBUMENTATIONS_UPDATE to 1.\n",
      "  check_for_updates()\n",
      "/home/ucapmgb/.conda/envs/Fathom/lib/python3.11/site-packages/albumentations/core/validation.py:58: UserWarning: ShiftScaleRotate is a special case of Affine transform. Please use Affine transform instead.\n",
      "  original_init(self, **validated_kwargs)\n",
      "/share/gpu5/ucapmgb/levee-hunter/levee_hunter/augmentations.py:16: UserWarning: Argument(s) 'alpha_affine' are not valid for transform ElasticTransform\n",
      "  A.ElasticTransform(\n",
      "/share/gpu5/ucapmgb/levee-hunter/levee_hunter/augmentations.py:19: UserWarning: Using lambda is incompatible with multiprocessing. Consider using regular functions or partial().\n",
      "  A.Lambda(\n",
      "/share/gpu5/ucapmgb/levee-hunter/levee_hunter/augmentations.py:32: UserWarning: Using lambda is incompatible with multiprocessing. Consider using regular functions or partial().\n",
      "  A.Lambda(\n",
      "/share/gpu5/ucapmgb/levee-hunter/levee_hunter/augmentations.py:47: UserWarning: Using lambda is incompatible with multiprocessing. Consider using regular functions or partial().\n",
      "  A.Lambda(\n",
      "/share/gpu5/ucapmgb/levee-hunter/levee_hunter/augmentations.py:56: UserWarning: Using lambda is incompatible with multiprocessing. Consider using regular functions or partial().\n",
      "  A.Lambda(\n",
      "/share/gpu5/ucapmgb/levee-hunter/levee_hunter/augmentations.py:66: UserWarning: Using lambda is incompatible with multiprocessing. Consider using regular functions or partial().\n",
      "  A.Lambda(\n"
     ]
    }
   ],
   "source": [
    "import matplotlib.pyplot as plt\n",
    "import numpy as np\n",
    "import pandas as pd\n",
    "import geopandas as gpd\n",
    "import os\n",
    "import rioxarray\n",
    "import rasterio\n",
    "import re\n",
    "import random\n",
    "import matplotlib.patches as patches\n",
    "from tqdm import tqdm\n",
    "\n",
    "from levee_hunter.levees_dataset import LeveesDataset\n",
    "from levee_hunter.train_test_val_splitting import *\n",
    "from levee_hunter.modeling.train import train_model\n",
    "from levee_hunter.modeling.inference import get_preds_targets\n",
    "from levee_hunter.modeling.metrics import get_pred_mask, plot_skeletons, custom_metrics, standard_metrics\n",
    "from levee_hunter.plotting import plot, plot_training_validation_loss\n",
    "from levee_hunter.modeling.inference import infer\n",
    "\n",
    "import torch\n",
    "import torch.nn as nn\n",
    "import torch.optim as optim\n",
    "from torch.utils.data import DataLoader\n",
    "\n",
    "from sklearn.model_selection import KFold, GroupKFold\n",
    "\n",
    "import segmentation_models_pytorch as smp\n",
    "from segmentation_models_pytorch.losses import DiceLoss, FocalLoss\n"
   ]
  },
  {
   "cell_type": "markdown",
   "metadata": {},
   "source": [
    "### Creating Dataset"
   ]
  },
  {
   "cell_type": "code",
   "execution_count": 2,
   "metadata": {},
   "outputs": [],
   "source": [
    "dataset = LeveesDataset(\n",
    "    images_dir='/share/gpu5/ucapmgb/levee-hunter/data/processed/_testing/13_384_invert/images',\n",
    "    masks_dir='/share/gpu5/ucapmgb/levee-hunter/data/processed/_testing/13_384_invert/masks',\n",
    "    transform=None,\n",
    "    weighted=True,\n",
    "    )"
   ]
  },
  {
   "cell_type": "markdown",
   "metadata": {},
   "source": [
    "### Training Model"
   ]
  },
  {
   "cell_type": "code",
   "execution_count": 3,
   "metadata": {},
   "outputs": [],
   "source": [
    "# Define a combined loss function that uses both BCE and Dice loss\n",
    "class DiceBCELoss(nn.Module):\n",
    "   def __init__(self, bce_weight=0.5, dice_weight=0.5, mode='binary'):\n",
    "      super(DiceBCELoss, self).__init__()\n",
    "      self.bce_weight = bce_weight\n",
    "      self.dice_weight = dice_weight\n",
    "      self.bce = nn.BCEWithLogitsLoss()\n",
    "      self.dice = DiceLoss(mode=mode)\n",
    "      \n",
    "   def forward(self, y_pred, y_true):\n",
    "      bce_loss = self.bce(y_pred, y_true)\n",
    "      dice_loss = self.dice(y_pred, y_true)\n",
    "      return self.bce_weight * bce_loss + self.dice_weight * dice_loss"
   ]
  },
  {
   "cell_type": "code",
   "execution_count": 4,
   "metadata": {},
   "outputs": [
    {
     "data": {
      "text/plain": [
       "device(type='cuda')"
      ]
     },
     "execution_count": 4,
     "metadata": {},
     "output_type": "execute_result"
    }
   ],
   "source": [
    "device = torch.device(\"cuda\" if torch.cuda.is_available() else \"cpu\")\n",
    "device"
   ]
  },
  {
   "cell_type": "code",
   "execution_count": 5,
   "metadata": {},
   "outputs": [],
   "source": [
    "model = smp.UnetPlusPlus(\n",
    "    encoder_name=\"resnet50\", encoder_weights=\"imagenet\", in_channels=1, classes=1\n",
    ").to(device)\n",
    "\n",
    "optimizer = optim.Adam(model.parameters(), lr=1e-4)"
   ]
  },
  {
   "cell_type": "code",
   "execution_count": 6,
   "metadata": {},
   "outputs": [],
   "source": [
    "def dice_s(prediction, target, threshold=0.5):\n",
    "    pred = torch.sigmoid(prediction).cpu().numpy()\n",
    "    pred = (pred > threshold).astype(np.uint8)\n",
    "    target = target.cpu().numpy()\n",
    "    \n",
    "    intersection = np.sum(pred * target)\n",
    "    return 2 * intersection / (np.sum(pred) + np.sum(target) + 1e-6)\n",
    "\n",
    "def iou_s(prediction, target, threshold=0.5):\n",
    "    pred = torch.sigmoid(prediction).cpu().numpy()\n",
    "    pred = (pred > threshold).astype(np.uint8)\n",
    "    target = target.cpu().numpy()\n",
    "    \n",
    "    intersection = np.sum(pred * target)\n",
    "    union = np.sum(pred) + np.sum(target) - intersection\n",
    "    return intersection / (union + 1e-6)"
   ]
  },
  {
   "cell_type": "code",
   "execution_count": 7,
   "metadata": {},
   "outputs": [
    {
     "name": "stdout",
     "output_type": "stream",
     "text": [
      "Total images: 1316\n",
      "Unique groups: 44\n"
     ]
    }
   ],
   "source": [
    "# Groups based on filenames\n",
    "# Extract group IDs from the file paths - keeping everything before \"_pX_wY\"\n",
    "groups = []\n",
    "for path in dataset.img_paths:\n",
    "   # Convert path to string if it's a Path object\n",
    "   path_str = str(path)\n",
    "   # Extract the base pattern without \"_pX_wY.tif\"\n",
    "   match = re.search(r'(.+)_p\\d+_w\\d+\\.tif$', path_str)\n",
    "   if match:\n",
    "      group_id = match.group(1)\n",
    "      groups.append(group_id)\n",
    "   else:\n",
    "      # Fallback if pattern doesn't match\n",
    "      groups.append(path_str)\n",
    "\n",
    "print(f\"Total images: {len(groups)}\")\n",
    "print(f\"Unique groups: {len(set(groups))}\")\n",
    "\n",
    "unique_groups = list(set(groups))\n",
    "random.shuffle(unique_groups)\n",
    "group_to_idx = {g: i for i, g in enumerate(unique_groups)}\n",
    "group_ids = [group_to_idx[g] for g in groups]"
   ]
  },
  {
   "cell_type": "code",
   "execution_count": 9,
   "metadata": {},
   "outputs": [
    {
     "name": "stdout",
     "output_type": "stream",
     "text": [
      "Starting fold 1/5\n",
      "beginning training on device: cuda\n",
      "Epoch: 1/5 Train Loss: 0.678759 Test Loss: 0.041075\n",
      "Train Levee Loss: 0.678300 (811.0) Train Non-Levee Loss: 0.680801 (242.0)\n",
      "Test Levee Loss: 0.635500 (208.0) Test Non-Levee Loss: 0.635409 (55.0)\n",
      "Model successfully saved to: ../models/Unet-13_384_invert_fold1.pth\n",
      "Epoch: 2/5 Train Loss: 0.615026 Test Loss: 0.038356\n",
      "Train Levee Loss: 0.615223 (811.0) Train Non-Levee Loss: 0.614583 (242.0)\n",
      "Test Levee Loss: 0.593270 (208.0) Test Non-Levee Loss: 0.593302 (55.0)\n",
      "Model successfully saved to: ../models/Unet-13_384_invert_fold1.pth\n",
      "Epoch: 3/5 Train Loss: 0.584413 Test Loss: 0.036849\n",
      "Train Levee Loss: 0.584583 (811.0) Train Non-Levee Loss: 0.584015 (242.0)\n",
      "Test Levee Loss: 0.569987 (208.0) Test Non-Levee Loss: 0.570100 (55.0)\n",
      "Model successfully saved to: ../models/Unet-13_384_invert_fold1.pth\n",
      "Epoch: 4/5 Train Loss: 0.561462 Test Loss: 0.035612\n",
      "Train Levee Loss: 0.561504 (811.0) Train Non-Levee Loss: 0.561429 (242.0)\n",
      "Test Levee Loss: 0.550788 (208.0) Test Non-Levee Loss: 0.551160 (55.0)\n",
      "Model successfully saved to: ../models/Unet-13_384_invert_fold1.pth\n",
      "Epoch: 5/5 Train Loss: 0.541513 Test Loss: 0.034463\n",
      "Train Levee Loss: 0.541407 (811.0) Train Non-Levee Loss: 0.541996 (242.0)\n",
      "Test Levee Loss: 0.533151 (208.0) Test Non-Levee Loss: 0.533529 (55.0)\n",
      "Model successfully saved to: ../models/Unet-13_384_invert_fold1.pth\n",
      "Trained UnetPlusPlus model with ResNetEncoder encoder.\n"
     ]
    },
    {
     "name": "stderr",
     "output_type": "stream",
     "text": [
      "Processing images: 100%|██████████| 263/263 [00:00<00:00, 399.10it/s]\n"
     ]
    },
    {
     "name": "stdout",
     "output_type": "stream",
     "text": [
      "Calculating overall metrics for this fold...\n",
      "Fold 1 metrics: Dice=0.9985, IoU=0.9969, Val Loss=0.0345\n",
      "Starting fold 2/5\n",
      "beginning training on device: cuda\n",
      "Epoch: 1/5 Train Loss: 0.575269 Test Loss: 0.035600\n",
      "Train Levee Loss: 0.574849 (814.0) Train Non-Levee Loss: 0.577177 (238.0)\n",
      "Test Levee Loss: 0.552904 (205.0) Test Non-Levee Loss: 0.552513 (59.0)\n",
      "Model successfully saved to: ../models/Unet-13_384_invert_fold2.pth\n",
      "Epoch: 2/5 Train Loss: 0.535940 Test Loss: 0.034162\n",
      "Train Levee Loss: 0.535874 (814.0) Train Non-Levee Loss: 0.536499 (238.0)\n",
      "Test Levee Loss: 0.530385 (205.0) Test Non-Levee Loss: 0.530836 (59.0)\n",
      "Model successfully saved to: ../models/Unet-13_384_invert_fold2.pth\n",
      "Epoch: 3/5 Train Loss: 0.516784 Test Loss: 0.032954\n",
      "Train Levee Loss: 0.516648 (814.0) Train Non-Levee Loss: 0.517245 (238.0)\n",
      "Test Levee Loss: 0.512110 (205.0) Test Non-Levee Loss: 0.511335 (59.0)\n",
      "Model successfully saved to: ../models/Unet-13_384_invert_fold2.pth\n",
      "Epoch: 4/5 Train Loss: 0.497907 Test Loss: 0.031839\n",
      "Train Levee Loss: 0.497390 (814.0) Train Non-Levee Loss: 0.499770 (238.0)\n",
      "Test Levee Loss: 0.494019 (205.0) Test Non-Levee Loss: 0.495460 (59.0)\n",
      "Model successfully saved to: ../models/Unet-13_384_invert_fold2.pth\n",
      "Epoch: 5/5 Train Loss: 0.476920 Test Loss: 0.030325\n",
      "Train Levee Loss: 0.476525 (814.0) Train Non-Levee Loss: 0.478107 (238.0)\n",
      "Test Levee Loss: 0.469893 (205.0) Test Non-Levee Loss: 0.471899 (59.0)\n",
      "Model successfully saved to: ../models/Unet-13_384_invert_fold2.pth\n",
      "Trained UnetPlusPlus model with ResNetEncoder encoder.\n"
     ]
    },
    {
     "name": "stderr",
     "output_type": "stream",
     "text": [
      "Processing images: 100%|██████████| 264/264 [00:00<00:00, 565.32it/s]\n"
     ]
    },
    {
     "name": "stdout",
     "output_type": "stream",
     "text": [
      "Calculating overall metrics for this fold...\n",
      "Fold 2 metrics: Dice=0.9978, IoU=0.9955, Val Loss=0.0303\n",
      "Starting fold 3/5\n",
      "beginning training on device: cuda\n",
      "Epoch: 1/5 Train Loss: 0.784255 Test Loss: 0.045408\n",
      "Train Levee Loss: 0.786150 (823.0) Train Non-Levee Loss: 0.778449 (230.0)\n",
      "Test Levee Loss: 0.702090 (196.0) Test Non-Levee Loss: 0.703906 (67.0)\n",
      "Model successfully saved to: ../models/Unet-13_384_invert_fold3.pth\n",
      "Epoch: 2/5 Train Loss: 0.684880 Test Loss: 0.042563\n",
      "Train Levee Loss: 0.685162 (823.0) Train Non-Levee Loss: 0.684098 (230.0)\n",
      "Test Levee Loss: 0.658611 (196.0) Test Non-Levee Loss: 0.659505 (67.0)\n",
      "Model successfully saved to: ../models/Unet-13_384_invert_fold3.pth\n",
      "Epoch: 3/5 Train Loss: 0.644438 Test Loss: 0.040531\n",
      "Train Levee Loss: 0.644517 (823.0) Train Non-Levee Loss: 0.644359 (230.0)\n",
      "Test Levee Loss: 0.627188 (196.0) Test Non-Levee Loss: 0.628940 (67.0)\n",
      "Model successfully saved to: ../models/Unet-13_384_invert_fold3.pth\n",
      "Epoch: 4/5 Train Loss: 0.617460 Test Loss: 0.039075\n",
      "Train Levee Loss: 0.617604 (823.0) Train Non-Levee Loss: 0.617060 (230.0)\n",
      "Test Levee Loss: 0.604299 (196.0) Test Non-Levee Loss: 0.605044 (67.0)\n",
      "Model successfully saved to: ../models/Unet-13_384_invert_fold3.pth\n",
      "Epoch: 5/5 Train Loss: 0.598674 Test Loss: 0.038109\n",
      "Train Levee Loss: 0.598593 (823.0) Train Non-Levee Loss: 0.599057 (230.0)\n",
      "Test Levee Loss: 0.589056 (196.0) Test Non-Levee Loss: 0.590222 (67.0)\n",
      "Model successfully saved to: ../models/Unet-13_384_invert_fold3.pth\n",
      "Trained UnetPlusPlus model with ResNetEncoder encoder.\n"
     ]
    },
    {
     "name": "stderr",
     "output_type": "stream",
     "text": [
      "Processing images: 100%|██████████| 263/263 [00:00<00:00, 412.68it/s]\n"
     ]
    },
    {
     "name": "stdout",
     "output_type": "stream",
     "text": [
      "Calculating overall metrics for this fold...\n",
      "Fold 3 metrics: Dice=0.9985, IoU=0.9971, Val Loss=0.0381\n",
      "Starting fold 4/5\n",
      "beginning training on device: cuda\n",
      "Epoch: 1/5 Train Loss: 0.589555 Test Loss: 0.036146\n",
      "Train Levee Loss: 0.589451 (813.0) Train Non-Levee Loss: 0.590252 (240.0)\n",
      "Test Levee Loss: 0.559354 (206.0) Test Non-Levee Loss: 0.559030 (57.0)\n",
      "Model successfully saved to: ../models/Unet-13_384_invert_fold4.pth\n",
      "Epoch: 2/5 Train Loss: 0.550833 Test Loss: 0.035302\n",
      "Train Levee Loss: 0.551226 (813.0) Train Non-Levee Loss: 0.549623 (240.0)\n",
      "Test Levee Loss: 0.546364 (206.0) Test Non-Levee Loss: 0.546484 (57.0)\n",
      "Model successfully saved to: ../models/Unet-13_384_invert_fold4.pth\n",
      "Epoch: 3/5 Train Loss: 0.531067 Test Loss: 0.033923\n",
      "Train Levee Loss: 0.530935 (813.0) Train Non-Levee Loss: 0.531608 (240.0)\n",
      "Test Levee Loss: 0.524713 (206.0) Test Non-Levee Loss: 0.525221 (57.0)\n",
      "Model successfully saved to: ../models/Unet-13_384_invert_fold4.pth\n",
      "Epoch: 4/5 Train Loss: 0.512608 Test Loss: 0.032645\n",
      "Train Levee Loss: 0.512417 (813.0) Train Non-Levee Loss: 0.513417 (240.0)\n",
      "Test Levee Loss: 0.505074 (206.0) Test Non-Levee Loss: 0.505601 (57.0)\n",
      "Model successfully saved to: ../models/Unet-13_384_invert_fold4.pth\n",
      "Epoch: 5/5 Train Loss: 0.491915 Test Loss: 0.031241\n",
      "Train Levee Loss: 0.491614 (813.0) Train Non-Levee Loss: 0.493229 (240.0)\n",
      "Test Levee Loss: 0.483579 (206.0) Test Non-Levee Loss: 0.484989 (57.0)\n",
      "Model successfully saved to: ../models/Unet-13_384_invert_fold4.pth\n",
      "Trained UnetPlusPlus model with ResNetEncoder encoder.\n"
     ]
    },
    {
     "name": "stderr",
     "output_type": "stream",
     "text": [
      "Processing images: 100%|██████████| 263/263 [00:00<00:00, 452.42it/s]\n"
     ]
    },
    {
     "name": "stdout",
     "output_type": "stream",
     "text": [
      "Calculating overall metrics for this fold...\n",
      "Fold 4 metrics: Dice=0.9971, IoU=0.9942, Val Loss=0.0312\n",
      "Starting fold 5/5\n",
      "beginning training on device: cuda\n",
      "Epoch: 1/5 Train Loss: 0.743662 Test Loss: 0.043861\n",
      "Train Levee Loss: 0.743217 (815.0) Train Non-Levee Loss: 0.745981 (238.0)\n",
      "Test Levee Loss: 0.678226 (204.0) Test Non-Levee Loss: 0.678695 (59.0)\n",
      "Model successfully saved to: ../models/Unet-13_384_invert_fold5.pth\n",
      "Epoch: 2/5 Train Loss: 0.648332 Test Loss: 0.040051\n",
      "Train Levee Loss: 0.648487 (815.0) Train Non-Levee Loss: 0.648115 (238.0)\n",
      "Test Levee Loss: 0.619555 (204.0) Test Non-Levee Loss: 0.619877 (59.0)\n",
      "Model successfully saved to: ../models/Unet-13_384_invert_fold5.pth\n",
      "Epoch: 3/5 Train Loss: 0.608081 Test Loss: 0.038331\n",
      "Train Levee Loss: 0.608006 (815.0) Train Non-Levee Loss: 0.608524 (238.0)\n",
      "Test Levee Loss: 0.592941 (204.0) Test Non-Levee Loss: 0.593016 (59.0)\n",
      "Model successfully saved to: ../models/Unet-13_384_invert_fold5.pth\n",
      "Epoch: 4/5 Train Loss: 0.581139 Test Loss: 0.036784\n",
      "Train Levee Loss: 0.581064 (815.0) Train Non-Levee Loss: 0.581516 (238.0)\n",
      "Test Levee Loss: 0.569183 (204.0) Test Non-Levee Loss: 0.568999 (59.0)\n",
      "Model successfully saved to: ../models/Unet-13_384_invert_fold5.pth\n",
      "Epoch: 5/5 Train Loss: 0.562712 Test Loss: 0.035840\n",
      "Train Levee Loss: 0.562591 (815.0) Train Non-Levee Loss: 0.563210 (238.0)\n",
      "Test Levee Loss: 0.554441 (204.0) Test Non-Levee Loss: 0.554429 (59.0)\n",
      "Model successfully saved to: ../models/Unet-13_384_invert_fold5.pth\n",
      "Trained UnetPlusPlus model with ResNetEncoder encoder.\n"
     ]
    },
    {
     "name": "stderr",
     "output_type": "stream",
     "text": [
      "Processing images: 100%|██████████| 263/263 [00:00<00:00, 385.58it/s]"
     ]
    },
    {
     "name": "stdout",
     "output_type": "stream",
     "text": [
      "Calculating overall metrics for this fold...\n",
      "Fold 5 metrics: Dice=0.9986, IoU=0.9972, Val Loss=0.0358\n"
     ]
    },
    {
     "name": "stderr",
     "output_type": "stream",
     "text": [
      "\n"
     ]
    }
   ],
   "source": [
    "# Number of folds for cross-validation\n",
    "num_folds = 5\n",
    "\n",
    "# Create a GroupKFold instead of regular KFold\n",
    "kfold = GroupKFold(n_splits=num_folds)\n",
    "\n",
    "# Lists to store metrics for each fold\n",
    "fold_results = []\n",
    "all_train_losses = []\n",
    "all_val_losses = []\n",
    "per_image_results = []  # To store per-image results\n",
    "\n",
    "# Create a list of all dataset indices\n",
    "dataset_size = len(dataset)\n",
    "indices = list(range(dataset_size))\n",
    "\n",
    "batch_size = 16\n",
    "\n",
    "for fold, (train_idx, val_idx) in enumerate(kfold.split(indices, groups=group_ids)):\n",
    "   print(f\"Starting fold {fold+1}/{num_folds}\")\n",
    "   \n",
    "   # Create train and validation subdatasets\n",
    "   train_subsampler = torch.utils.data.SubsetRandomSampler(train_idx)\n",
    "   val_subsampler = torch.utils.data.SubsetRandomSampler(val_idx)\n",
    "   \n",
    "   # Define data loaders for this fold\n",
    "   fold_train_loader = DataLoader(\n",
    "      dataset, \n",
    "      batch_size=batch_size, \n",
    "      sampler=train_subsampler,\n",
    "      shuffle=False\n",
    "   )\n",
    "   \n",
    "   fold_val_loader = DataLoader(\n",
    "      dataset,\n",
    "      batch_size=batch_size,\n",
    "      sampler=val_subsampler,\n",
    "      shuffle=False\n",
    "   )\n",
    "   \n",
    "   # Reset model for each fold\n",
    "   model = smp.UnetPlusPlus(\n",
    "      encoder_name=\"resnet50\", \n",
    "      encoder_weights=\"imagenet\", \n",
    "      in_channels=1, \n",
    "      classes=1\n",
    "   ).to(device)\n",
    "   \n",
    "   optimizer = optim.Adam(model.parameters(), lr=1e-4)\n",
    "\n",
    "   # Define model name with fold number to save each fold's model separately\n",
    "   model_path = f\"../models/Unet-13_384_invert_fold{fold+1}.pth\"\n",
    "\n",
    "   model, train_losses, val_losses = train_model(\n",
    "      model=model,\n",
    "      train_loader=fold_train_loader,\n",
    "      test_loader=fold_val_loader,\n",
    "      optimizer=optimizer,\n",
    "      criterion=DiceBCELoss(),\n",
    "      epochs=5,\n",
    "      save_model='best',\n",
    "      save_model_path=model_path,\n",
    "   )\n",
    "   \n",
    "   # Save the losses\n",
    "   all_train_losses.append(train_losses)\n",
    "   all_val_losses.append(val_losses)\n",
    "   \n",
    "   # Evaluate the model\n",
    "   model.eval()\n",
    "   preds, targets = get_preds_targets(model=model, val_loader=fold_val_loader, device=device)\n",
    "\n",
    "   # Get the actual image indices from the validation sampler\n",
    "   # We need to map back to the original dataset indices\n",
    "   val_indices = [val_idx[i] for i in range(len(preds))]\n",
    "   # Get file names for the validation images\n",
    "   val_filenames = [dataset.img_paths[idx] for idx in val_indices]\n",
    "   \n",
    "   image_metrics = []\n",
    "   for i in tqdm(range(len(preds)), desc=\"Processing images\"):\n",
    "      pred = preds[i]\n",
    "      target = targets[i]\n",
    "      \n",
    "      # Calculate metrics for this image\n",
    "      dice = dice_s(target, pred, threshold=0.5)\n",
    "      iou = iou_s(target, pred, threshold=0.5)\n",
    "      \n",
    "      image_metrics.append({\n",
    "         'dice': dice,\n",
    "         'iou': iou,\n",
    "         'filename': val_filenames[i]\n",
    "      })\n",
    "   \n",
    "   # Convert to DataFrame\n",
    "   fold_per_image_results = pd.DataFrame(image_metrics)\n",
    "   fold_per_image_results['fold'] = fold+1\n",
    "   per_image_results.append(fold_per_image_results)\n",
    "   \n",
    "\n",
    "   # Calculate overall metrics\n",
    "   print(\"Calculating overall metrics for this fold...\")\n",
    "   avg_dice = np.mean([m['dice'] for m in image_metrics])\n",
    "   avg_iou = np.mean([m['iou'] for m in image_metrics])\n",
    "   \n",
    "   # Create metrics dictionary for this fold\n",
    "   fold_metrics = {\n",
    "      'fold': fold + 1,\n",
    "      'dice': avg_dice,\n",
    "      'iou': avg_iou,\n",
    "      'val_loss': val_losses[-1]  # Final validation loss\n",
    "   }\n",
    "   \n",
    "   # Append to results list\n",
    "   fold_results.append(fold_metrics)\n",
    "   \n",
    "   print(f\"Fold {fold+1} metrics: Dice={avg_dice:.4f}, IoU={avg_iou:.4f}, Val Loss={val_losses[-1]:.4f}\")"
   ]
  },
  {
   "cell_type": "markdown",
   "metadata": {},
   "source": [
    "### Results"
   ]
  },
  {
   "cell_type": "code",
   "execution_count": 10,
   "metadata": {},
   "outputs": [
    {
     "name": "stdout",
     "output_type": "stream",
     "text": [
      "K-fold Cross Validation Results:\n",
      "   fold      dice       iou  val_loss\n",
      "0     1  0.998461  0.996931  0.034463\n",
      "1     2  0.997765  0.995549  0.030325\n",
      "2     3  0.998536  0.997082  0.038109\n",
      "3     4  0.997074  0.994185  0.031241\n",
      "4     5  0.998578  0.997164  0.035840\n",
      "\n",
      "Mean results across all folds:\n",
      "dice        0.998083\n",
      "iou         0.996182\n",
      "val_loss    0.033996\n",
      "dtype: float64\n"
     ]
    }
   ],
   "source": [
    "# Combine per-image results across all folds\n",
    "all_per_image_results = pd.concat(per_image_results, ignore_index=True)\n",
    "\n",
    "# Summarize results across folds\n",
    "df_results = pd.DataFrame(fold_results)\n",
    "print(\"K-fold Cross Validation Results:\")\n",
    "print(df_results)\n",
    "print(\"\\nMean results across all folds:\")\n",
    "print(df_results.drop('fold', axis=1).mean())"
   ]
  },
  {
   "cell_type": "markdown",
   "metadata": {},
   "source": [
    "### Challenging Images"
   ]
  },
  {
   "cell_type": "code",
   "execution_count": 11,
   "metadata": {},
   "outputs": [
    {
     "name": "stdout",
     "output_type": "stream",
     "text": [
      "\n",
      "Top 10 most challenging images (lowest average Dice score):\n",
      "                                                    dice_mean  dice_count\n",
      "filename                                                                 \n",
      "/share/gpu5/ucapmgb/levee-hunter/data/processed...   0.986491           1\n",
      "/share/gpu5/ucapmgb/levee-hunter/data/processed...   0.986880           1\n",
      "/share/gpu5/ucapmgb/levee-hunter/data/processed...   0.987141           1\n",
      "/share/gpu5/ucapmgb/levee-hunter/data/processed...   0.987521           1\n",
      "/share/gpu5/ucapmgb/levee-hunter/data/processed...   0.988204           1\n",
      "/share/gpu5/ucapmgb/levee-hunter/data/processed...   0.988621           1\n",
      "/share/gpu5/ucapmgb/levee-hunter/data/processed...   0.988796           1\n",
      "/share/gpu5/ucapmgb/levee-hunter/data/processed...   0.988815           1\n",
      "/share/gpu5/ucapmgb/levee-hunter/data/processed...   0.988886           1\n",
      "/share/gpu5/ucapmgb/levee-hunter/data/processed...   0.988896           1\n",
      "/share/gpu5/ucapmgb/levee-hunter/data/processed...   0.988963           1\n",
      "/share/gpu5/ucapmgb/levee-hunter/data/processed...   0.989244           1\n",
      "/share/gpu5/ucapmgb/levee-hunter/data/processed...   0.989396           1\n",
      "/share/gpu5/ucapmgb/levee-hunter/data/processed...   0.989476           1\n",
      "/share/gpu5/ucapmgb/levee-hunter/data/processed...   0.989574           1\n",
      "/share/gpu5/ucapmgb/levee-hunter/data/processed...   0.989597           1\n",
      "/share/gpu5/ucapmgb/levee-hunter/data/processed...   0.989839           1\n",
      "/share/gpu5/ucapmgb/levee-hunter/data/processed...   0.990093           1\n",
      "/share/gpu5/ucapmgb/levee-hunter/data/processed...   0.990108           1\n",
      "/share/gpu5/ucapmgb/levee-hunter/data/processed...   0.990501           1\n",
      "/share/gpu5/ucapmgb/levee-hunter/data/processed...   0.990536           1\n",
      "/share/gpu5/ucapmgb/levee-hunter/data/processed...   0.990583           1\n",
      "/share/gpu5/ucapmgb/levee-hunter/data/processed...   0.990741           1\n",
      "/share/gpu5/ucapmgb/levee-hunter/data/processed...   0.990806           1\n",
      "/share/gpu5/ucapmgb/levee-hunter/data/processed...   0.990852           1\n"
     ]
    }
   ],
   "source": [
    "# Group by original image index and find consistently problematic images\n",
    "# Calculate mean and std of dice scores for each image across folds\n",
    "problem_images = all_per_image_results.groupby('filename').agg({\n",
    "   'dice': ['mean', 'count']\n",
    "})\n",
    "\n",
    "# Flatten the multi-index columns\n",
    "problem_images.columns = ['_'.join(col).strip() for col in problem_images.columns.values]\n",
    "\n",
    "# Sort by mean dice score (ascending) to find the most problematic images\n",
    "problem_images_sorted = problem_images.sort_values('dice_mean')\n",
    "\n",
    "print(\"\\nTop 10 most challenging images (lowest average Dice score):\")\n",
    "print(problem_images_sorted.head(25))"
   ]
  },
  {
   "cell_type": "code",
   "execution_count": 12,
   "metadata": {},
   "outputs": [
    {
     "data": {
      "image/png": "[encoded data removed]",
      "text/plain": [
       "<Figure size 1500x1000 with 2 Axes>"
      ]
     },
     "metadata": {},
     "output_type": "display_data"
    }
   ],
   "source": [
    "# Visualize per-image metric distributions\n",
    "plt.figure(figsize=(15, 10))\n",
    "\n",
    "plt.subplot(2, 2, 1)\n",
    "plt.hist(all_per_image_results['dice'], bins=100, alpha=0.7, density=True)\n",
    "plt.title('Distribution of Dice Scores')\n",
    "plt.xlabel('Dice Score')\n",
    "\n",
    "plt.subplot(2, 2, 2)\n",
    "plt.hist(all_per_image_results['iou'], bins=100, alpha=0.7, density=True)\n",
    "plt.title('Distribution of IoU Scores')\n",
    "plt.xlabel('IoU Score')\n",
    "\n",
    "plt.tight_layout()\n",
    "plt.show()"
   ]
  },
  {
   "cell_type": "code",
   "execution_count": null,
   "metadata": {},
   "outputs": [],
   "source": []
  }
 ],
 "metadata": {
  "kernelspec": {
   "display_name": "Python 3 (ipykernel)",
   "language": "python",
   "name": "python3"
  },
  "language_info": {
   "codemirror_mode": {
    "name": "ipython",
    "version": 3
   },
   "file_extension": ".py",
   "mimetype": "text/x-python",
   "name": "python",
   "nbconvert_exporter": "python",
   "pygments_lexer": "ipython3",
   "version": "3.11.11"
  }
 },
 "nbformat": 4,
 "nbformat_minor": 2
}
